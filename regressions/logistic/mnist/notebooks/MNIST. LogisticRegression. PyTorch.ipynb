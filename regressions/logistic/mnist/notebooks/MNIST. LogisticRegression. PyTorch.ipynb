{
 "cells": [
  {
   "cell_type": "markdown",
   "id": "73dfeeae",
   "metadata": {},
   "source": [
    "```python\n",
    "# Uncomment and run the commands below if imports fail\n",
    "# !conda install numpy pytorch torchvision cpuonly -c pytorch -y\n",
    "# !pip install matplotlib --upgrade --quiet\n",
    "```"
   ]
  },
  {
   "cell_type": "code",
   "execution_count": 1,
   "id": "90108855",
   "metadata": {},
   "outputs": [],
   "source": [
    "# !conda install torchvision cpuonly -c pytorch -y"
   ]
  },
  {
   "cell_type": "code",
   "execution_count": 1,
   "id": "9f05d03e",
   "metadata": {},
   "outputs": [],
   "source": [
    "# Imports\n",
    "import torch\n",
    "import torchvision\n",
    "from torchvision.datasets import MNIST\n",
    "import torchvision.transforms as transforms\n",
    "from torch.utils.data import random_split\n",
    "from torch.utils.data import DataLoader\n",
    "import torch.nn as nn\n",
    "import torch.nn.functional as F\n",
    "\n",
    "import matplotlib.pyplot as plt\n",
    "%matplotlib inline"
   ]
  },
  {
   "cell_type": "code",
   "execution_count": 2,
   "id": "66611c74",
   "metadata": {},
   "outputs": [],
   "source": [
    "# Download training dataset\n",
    "dataset = MNIST(root='data/', download=True)"
   ]
  },
  {
   "cell_type": "code",
   "execution_count": 3,
   "id": "4bd240f0",
   "metadata": {},
   "outputs": [
    {
     "data": {
      "text/plain": [
       "60000"
      ]
     },
     "execution_count": 3,
     "metadata": {},
     "output_type": "execute_result"
    }
   ],
   "source": [
    "# Look at the size of the dataset\n",
    "len(dataset)"
   ]
  },
  {
   "cell_type": "code",
   "execution_count": 4,
   "id": "ca70369f",
   "metadata": {},
   "outputs": [
    {
     "data": {
      "text/plain": [
       "10000"
      ]
     },
     "execution_count": 4,
     "metadata": {},
     "output_type": "execute_result"
    }
   ],
   "source": [
    "# Load an additonal test set of 10,000 images.\n",
    "test_dataset = MNIST(root='data/', train=False)\n",
    "len(test_dataset)"
   ]
  },
  {
   "cell_type": "code",
   "execution_count": 5,
   "id": "33b1c1c7",
   "metadata": {},
   "outputs": [
    {
     "data": {
      "text/plain": [
       "(<PIL.Image.Image image mode=L size=28x28 at 0x155B96248B0>, 5)"
      ]
     },
     "execution_count": 5,
     "metadata": {},
     "output_type": "execute_result"
    }
   ],
   "source": [
    "dataset[0]"
   ]
  },
  {
   "cell_type": "markdown",
   "id": "b33f3201",
   "metadata": {},
   "source": [
    "Let's look at an example of element from the dataset."
   ]
  },
  {
   "cell_type": "code",
   "execution_count": 6,
   "id": "c8e294a0",
   "metadata": {
    "scrolled": true
   },
   "outputs": [
    {
     "name": "stdout",
     "output_type": "stream",
     "text": [
      "Label: 3\n"
     ]
    },
    {
     "data": {
      "image/png": "[encoded data removed]",
      "text/plain": [
       "<Figure size 432x288 with 1 Axes>"
      ]
     },
     "metadata": {
      "needs_background": "light"
     },
     "output_type": "display_data"
    }
   ],
   "source": [
    "image, label = dataset[10]\n",
    "plt.imshow(image, cmap='gray')\n",
    "print(\"Label:\", label)"
   ]
  },
  {
   "cell_type": "code",
   "execution_count": 7,
   "id": "87a52da4",
   "metadata": {},
   "outputs": [],
   "source": [
    "# Convert images to tensor\n",
    "dataset = MNIST(root='data/', train=True, transform=transforms.ToTensor())"
   ]
  },
  {
   "cell_type": "markdown",
   "id": "22008615",
   "metadata": {},
   "source": [
    "Check shape of the tensor"
   ]
  },
  {
   "cell_type": "code",
   "execution_count": 8,
   "id": "6cd9b1f5",
   "metadata": {},
   "outputs": [
    {
     "name": "stdout",
     "output_type": "stream",
     "text": [
      "torch.Size([1, 28, 28]) 0\n"
     ]
    }
   ],
   "source": [
    "img_tensor, label = dataset[1]\n",
    "print(img_tensor.shape, label)"
   ]
  },
  {
   "cell_type": "markdown",
   "id": "48be2a52",
   "metadata": {},
   "source": [
    "Let's look at the tensor it self"
   ]
  },
  {
   "cell_type": "code",
   "execution_count": 9,
   "id": "30192f5a",
   "metadata": {},
   "outputs": [
    {
     "name": "stdout",
     "output_type": "stream",
     "text": [
      "tensor([[[0.9333, 0.9882, 0.9882, 0.7020, 0.0471],\n",
      "         [0.9922, 0.9137, 0.8157, 0.3294, 0.0000],\n",
      "         [0.9412, 0.2784, 0.0745, 0.1098, 0.0000],\n",
      "         [0.2471, 0.0000, 0.0000, 0.0000, 0.0000],\n",
      "         [0.0000, 0.0000, 0.0000, 0.0000, 0.0000]]])\n"
     ]
    }
   ],
   "source": [
    "print(img_tensor[:, 10:15, 10:15])"
   ]
  },
  {
   "cell_type": "markdown",
   "id": "9cb64e67",
   "metadata": {},
   "source": [
    "And max/min values"
   ]
  },
  {
   "cell_type": "code",
   "execution_count": 10,
   "id": "ca9f4bfe",
   "metadata": {},
   "outputs": [
    {
     "name": "stdout",
     "output_type": "stream",
     "text": [
      "tensor(1.) tensor(0.)\n"
     ]
    }
   ],
   "source": [
    "print(torch.max(img_tensor), torch.min(img_tensor))"
   ]
  },
  {
   "cell_type": "markdown",
   "id": "902edfbe",
   "metadata": {},
   "source": [
    "Plot part of whole image by passing peace of the tensor"
   ]
  },
  {
   "cell_type": "code",
   "execution_count": 11,
   "id": "487ba7ce",
   "metadata": {},
   "outputs": [
    {
     "data": {
      "image/png": "[encoded data removed]",
      "text/plain": [
       "<Figure size 432x288 with 1 Axes>"
      ]
     },
     "metadata": {
      "needs_background": "light"
     },
     "output_type": "display_data"
    }
   ],
   "source": [
    "plt.imshow(img_tensor[0, 10:15, 10:15], cmap='gray');"
   ]
  },
  {
   "cell_type": "code",
   "execution_count": 12,
   "id": "642ffcc0",
   "metadata": {},
   "outputs": [
    {
     "data": {
      "text/plain": [
       "(50000, 10000)"
      ]
     },
     "execution_count": 12,
     "metadata": {},
     "output_type": "execute_result"
    }
   ],
   "source": [
    "# Split dataset of train and validation sets\n",
    "train_ds, val_ds = random_split(dataset, [50000, 10000])\n",
    "len(train_ds), len(val_ds)"
   ]
  },
  {
   "cell_type": "code",
   "execution_count": 13,
   "id": "8a3ba117",
   "metadata": {},
   "outputs": [],
   "source": [
    "# Create batches\n",
    "batch_size = 128\n",
    "train_loader = DataLoader(train_ds, batch_size, shuffle=True)\n",
    "val_loader = DataLoader(val_ds, batch_size)"
   ]
  },
  {
   "cell_type": "code",
   "execution_count": 14,
   "id": "fc8d2595",
   "metadata": {},
   "outputs": [
    {
     "name": "stdout",
     "output_type": "stream",
     "text": [
      "torch.Size([10, 784])\n"
     ]
    },
    {
     "data": {
      "text/plain": [
       "Parameter containing:\n",
       "tensor([[ 0.0353,  0.0323, -0.0115,  ...,  0.0018,  0.0050,  0.0056],\n",
       "        [-0.0064,  0.0202,  0.0136,  ..., -0.0049,  0.0300,  0.0160],\n",
       "        [-0.0299, -0.0268, -0.0030,  ..., -0.0296,  0.0173, -0.0267],\n",
       "        ...,\n",
       "        [ 0.0215, -0.0165,  0.0080,  ...,  0.0037, -0.0345, -0.0320],\n",
       "        [-0.0093,  0.0176,  0.0098,  ..., -0.0002,  0.0145, -0.0230],\n",
       "        [ 0.0331, -0.0238, -0.0339,  ..., -0.0129, -0.0320,  0.0177]],\n",
       "       requires_grad=True)"
      ]
     },
     "execution_count": 14,
     "metadata": {},
     "output_type": "execute_result"
    }
   ],
   "source": [
    "# Model\n",
    "input_size = 28 * 28\n",
    "num_classes = 10\n",
    "\n",
    "model = nn.Linear(input_size, num_classes)\n",
    "print(model.weight.shape)\n",
    "model.weight"
   ]
  },
  {
   "cell_type": "code",
   "execution_count": 15,
   "id": "3e9e135d",
   "metadata": {
    "scrolled": true
   },
   "outputs": [
    {
     "name": "stdout",
     "output_type": "stream",
     "text": [
      "torch.Size([10])\n"
     ]
    },
    {
     "data": {
      "text/plain": [
       "Parameter containing:\n",
       "tensor([-0.0011,  0.0076, -0.0045, -0.0336, -0.0355,  0.0044, -0.0340, -0.0185,\n",
       "        -0.0113,  0.0030], requires_grad=True)"
      ]
     },
     "execution_count": 15,
     "metadata": {},
     "output_type": "execute_result"
    }
   ],
   "source": [
    "print(model.bias.shape)\n",
    "model.bias"
   ]
  },
  {
   "cell_type": "code",
   "execution_count": 16,
   "id": "9ec9f173",
   "metadata": {},
   "outputs": [
    {
     "name": "stdout",
     "output_type": "stream",
     "text": [
      "tensor([5, 6, 7, 7, 7, 5, 6, 8, 3, 6, 9, 9, 9, 3, 8, 2, 5, 1, 6, 0, 3, 5, 2, 2,\n",
      "        9, 9, 8, 7, 0, 5, 8, 4, 3, 6, 9, 2, 1, 5, 9, 4, 1, 5, 7, 7, 7, 7, 5, 7,\n",
      "        9, 4, 3, 7, 1, 5, 8, 8, 4, 9, 1, 4, 8, 6, 0, 1, 7, 6, 6, 9, 2, 0, 3, 3,\n",
      "        8, 1, 3, 4, 7, 2, 3, 3, 9, 6, 6, 3, 7, 4, 4, 8, 9, 0, 9, 5, 3, 4, 1, 9,\n",
      "        7, 7, 1, 1, 6, 2, 3, 7, 1, 2, 2, 6, 2, 6, 5, 9, 7, 4, 8, 2, 6, 9, 4, 3,\n",
      "        0, 8, 5, 8, 6, 6, 5, 1])\n",
      "torch.Size([128, 1, 28, 28])\n"
     ]
    },
    {
     "ename": "RuntimeError",
     "evalue": "size mismatch, m1: [3584 x 28], m2: [784 x 10] at C:\\Users\\builder\\AppData\\Local\\Temp\\pip-req-build-e5c8dddg\\aten\\src\\TH/generic/THTensorMath.cpp:136",
     "output_type": "error",
     "traceback": [
      "\u001b[1;31m---------------------------------------------------------------------------\u001b[0m",
      "\u001b[1;31mRuntimeError\u001b[0m                              Traceback (most recent call last)",
      "\u001b[1;32m<ipython-input-16-72eddc737460>\u001b[0m in \u001b[0;36m<module>\u001b[1;34m\u001b[0m\n\u001b[0;32m      2\u001b[0m     \u001b[0mprint\u001b[0m\u001b[1;33m(\u001b[0m\u001b[0mlabels\u001b[0m\u001b[1;33m)\u001b[0m\u001b[1;33m\u001b[0m\u001b[1;33m\u001b[0m\u001b[0m\n\u001b[0;32m      3\u001b[0m     \u001b[0mprint\u001b[0m\u001b[1;33m(\u001b[0m\u001b[0mimages\u001b[0m\u001b[1;33m.\u001b[0m\u001b[0mshape\u001b[0m\u001b[1;33m)\u001b[0m\u001b[1;33m\u001b[0m\u001b[1;33m\u001b[0m\u001b[0m\n\u001b[1;32m----> 4\u001b[1;33m     \u001b[0moutputs\u001b[0m \u001b[1;33m=\u001b[0m \u001b[0mmodel\u001b[0m\u001b[1;33m(\u001b[0m\u001b[0mimages\u001b[0m\u001b[1;33m)\u001b[0m\u001b[1;33m\u001b[0m\u001b[1;33m\u001b[0m\u001b[0m\n\u001b[0m\u001b[0;32m      5\u001b[0m     \u001b[1;32mbreak\u001b[0m\u001b[1;33m\u001b[0m\u001b[1;33m\u001b[0m\u001b[0m\n",
      "\u001b[1;32m~\\.conda\\envs\\ml\\lib\\site-packages\\torch\\nn\\modules\\module.py\u001b[0m in \u001b[0;36m__call__\u001b[1;34m(self, *input, **kwargs)\u001b[0m\n\u001b[0;32m    530\u001b[0m             \u001b[0mresult\u001b[0m \u001b[1;33m=\u001b[0m \u001b[0mself\u001b[0m\u001b[1;33m.\u001b[0m\u001b[0m_slow_forward\u001b[0m\u001b[1;33m(\u001b[0m\u001b[1;33m*\u001b[0m\u001b[0minput\u001b[0m\u001b[1;33m,\u001b[0m \u001b[1;33m**\u001b[0m\u001b[0mkwargs\u001b[0m\u001b[1;33m)\u001b[0m\u001b[1;33m\u001b[0m\u001b[1;33m\u001b[0m\u001b[0m\n\u001b[0;32m    531\u001b[0m         \u001b[1;32melse\u001b[0m\u001b[1;33m:\u001b[0m\u001b[1;33m\u001b[0m\u001b[1;33m\u001b[0m\u001b[0m\n\u001b[1;32m--> 532\u001b[1;33m             \u001b[0mresult\u001b[0m \u001b[1;33m=\u001b[0m \u001b[0mself\u001b[0m\u001b[1;33m.\u001b[0m\u001b[0mforward\u001b[0m\u001b[1;33m(\u001b[0m\u001b[1;33m*\u001b[0m\u001b[0minput\u001b[0m\u001b[1;33m,\u001b[0m \u001b[1;33m**\u001b[0m\u001b[0mkwargs\u001b[0m\u001b[1;33m)\u001b[0m\u001b[1;33m\u001b[0m\u001b[1;33m\u001b[0m\u001b[0m\n\u001b[0m\u001b[0;32m    533\u001b[0m         \u001b[1;32mfor\u001b[0m \u001b[0mhook\u001b[0m \u001b[1;32min\u001b[0m \u001b[0mself\u001b[0m\u001b[1;33m.\u001b[0m\u001b[0m_forward_hooks\u001b[0m\u001b[1;33m.\u001b[0m\u001b[0mvalues\u001b[0m\u001b[1;33m(\u001b[0m\u001b[1;33m)\u001b[0m\u001b[1;33m:\u001b[0m\u001b[1;33m\u001b[0m\u001b[1;33m\u001b[0m\u001b[0m\n\u001b[0;32m    534\u001b[0m             \u001b[0mhook_result\u001b[0m \u001b[1;33m=\u001b[0m \u001b[0mhook\u001b[0m\u001b[1;33m(\u001b[0m\u001b[0mself\u001b[0m\u001b[1;33m,\u001b[0m \u001b[0minput\u001b[0m\u001b[1;33m,\u001b[0m \u001b[0mresult\u001b[0m\u001b[1;33m)\u001b[0m\u001b[1;33m\u001b[0m\u001b[1;33m\u001b[0m\u001b[0m\n",
      "\u001b[1;32m~\\.conda\\envs\\ml\\lib\\site-packages\\torch\\nn\\modules\\linear.py\u001b[0m in \u001b[0;36mforward\u001b[1;34m(self, input)\u001b[0m\n\u001b[0;32m     85\u001b[0m \u001b[1;33m\u001b[0m\u001b[0m\n\u001b[0;32m     86\u001b[0m     \u001b[1;32mdef\u001b[0m \u001b[0mforward\u001b[0m\u001b[1;33m(\u001b[0m\u001b[0mself\u001b[0m\u001b[1;33m,\u001b[0m \u001b[0minput\u001b[0m\u001b[1;33m)\u001b[0m\u001b[1;33m:\u001b[0m\u001b[1;33m\u001b[0m\u001b[1;33m\u001b[0m\u001b[0m\n\u001b[1;32m---> 87\u001b[1;33m         \u001b[1;32mreturn\u001b[0m \u001b[0mF\u001b[0m\u001b[1;33m.\u001b[0m\u001b[0mlinear\u001b[0m\u001b[1;33m(\u001b[0m\u001b[0minput\u001b[0m\u001b[1;33m,\u001b[0m \u001b[0mself\u001b[0m\u001b[1;33m.\u001b[0m\u001b[0mweight\u001b[0m\u001b[1;33m,\u001b[0m \u001b[0mself\u001b[0m\u001b[1;33m.\u001b[0m\u001b[0mbias\u001b[0m\u001b[1;33m)\u001b[0m\u001b[1;33m\u001b[0m\u001b[1;33m\u001b[0m\u001b[0m\n\u001b[0m\u001b[0;32m     88\u001b[0m \u001b[1;33m\u001b[0m\u001b[0m\n\u001b[0;32m     89\u001b[0m     \u001b[1;32mdef\u001b[0m \u001b[0mextra_repr\u001b[0m\u001b[1;33m(\u001b[0m\u001b[0mself\u001b[0m\u001b[1;33m)\u001b[0m\u001b[1;33m:\u001b[0m\u001b[1;33m\u001b[0m\u001b[1;33m\u001b[0m\u001b[0m\n",
      "\u001b[1;32m~\\.conda\\envs\\ml\\lib\\site-packages\\torch\\nn\\functional.py\u001b[0m in \u001b[0;36mlinear\u001b[1;34m(input, weight, bias)\u001b[0m\n\u001b[0;32m   1370\u001b[0m         \u001b[0mret\u001b[0m \u001b[1;33m=\u001b[0m \u001b[0mtorch\u001b[0m\u001b[1;33m.\u001b[0m\u001b[0maddmm\u001b[0m\u001b[1;33m(\u001b[0m\u001b[0mbias\u001b[0m\u001b[1;33m,\u001b[0m \u001b[0minput\u001b[0m\u001b[1;33m,\u001b[0m \u001b[0mweight\u001b[0m\u001b[1;33m.\u001b[0m\u001b[0mt\u001b[0m\u001b[1;33m(\u001b[0m\u001b[1;33m)\u001b[0m\u001b[1;33m)\u001b[0m\u001b[1;33m\u001b[0m\u001b[1;33m\u001b[0m\u001b[0m\n\u001b[0;32m   1371\u001b[0m     \u001b[1;32melse\u001b[0m\u001b[1;33m:\u001b[0m\u001b[1;33m\u001b[0m\u001b[1;33m\u001b[0m\u001b[0m\n\u001b[1;32m-> 1372\u001b[1;33m         \u001b[0moutput\u001b[0m \u001b[1;33m=\u001b[0m \u001b[0minput\u001b[0m\u001b[1;33m.\u001b[0m\u001b[0mmatmul\u001b[0m\u001b[1;33m(\u001b[0m\u001b[0mweight\u001b[0m\u001b[1;33m.\u001b[0m\u001b[0mt\u001b[0m\u001b[1;33m(\u001b[0m\u001b[1;33m)\u001b[0m\u001b[1;33m)\u001b[0m\u001b[1;33m\u001b[0m\u001b[1;33m\u001b[0m\u001b[0m\n\u001b[0m\u001b[0;32m   1373\u001b[0m         \u001b[1;32mif\u001b[0m \u001b[0mbias\u001b[0m \u001b[1;32mis\u001b[0m \u001b[1;32mnot\u001b[0m \u001b[1;32mNone\u001b[0m\u001b[1;33m:\u001b[0m\u001b[1;33m\u001b[0m\u001b[1;33m\u001b[0m\u001b[0m\n\u001b[0;32m   1374\u001b[0m             \u001b[0moutput\u001b[0m \u001b[1;33m+=\u001b[0m \u001b[0mbias\u001b[0m\u001b[1;33m\u001b[0m\u001b[1;33m\u001b[0m\u001b[0m\n",
      "\u001b[1;31mRuntimeError\u001b[0m: size mismatch, m1: [3584 x 28], m2: [784 x 10] at C:\\Users\\builder\\AppData\\Local\\Temp\\pip-req-build-e5c8dddg\\aten\\src\\TH/generic/THTensorMath.cpp:136"
     ]
    }
   ],
   "source": [
    "for images, labels in train_loader:\n",
    "    print(labels)\n",
    "    print(images.shape)\n",
    "    outputs = model(images)\n",
    "    break"
   ]
  },
  {
   "cell_type": "code",
   "execution_count": 21,
   "id": "78b66480",
   "metadata": {},
   "outputs": [
    {
     "name": "stdout",
     "output_type": "stream",
     "text": [
      "torch.Size([10, 784]) torch.Size([10])\n"
     ]
    },
    {
     "data": {
      "text/plain": [
       "[Parameter containing:\n",
       " tensor([[-0.0125, -0.0335,  0.0316,  ..., -0.0245, -0.0088,  0.0108],\n",
       "         [-0.0226, -0.0061,  0.0032,  ..., -0.0021, -0.0079, -0.0156],\n",
       "         [ 0.0324, -0.0249, -0.0017,  ...,  0.0216,  0.0262,  0.0288],\n",
       "         ...,\n",
       "         [ 0.0249,  0.0236, -0.0169,  ...,  0.0304,  0.0215, -0.0083],\n",
       "         [-0.0013,  0.0237, -0.0110,  ..., -0.0188,  0.0128, -0.0238],\n",
       "         [ 0.0330, -0.0250, -0.0276,  ..., -0.0151, -0.0261, -0.0153]],\n",
       "        requires_grad=True),\n",
       " Parameter containing:\n",
       " tensor([-0.0339,  0.0047,  0.0338,  0.0176, -0.0134,  0.0276, -0.0349,  0.0020,\n",
       "         -0.0182, -0.0331], requires_grad=True)]"
      ]
     },
     "execution_count": 21,
     "metadata": {},
     "output_type": "execute_result"
    }
   ],
   "source": [
    "class MnistModel(nn.Module):\n",
    "    def __init__(self):\n",
    "        super().__init__()\n",
    "        self.linear = nn.Linear(input_size, num_classes)\n",
    "        \n",
    "    def forward(self, xb):\n",
    "        xb = xb.reshape(-1, 784)\n",
    "        out = self.linear(xb)\n",
    "        return out\n",
    "    \n",
    "\n",
    "model = MnistModel()\n",
    "\n",
    "print(model.linear.weight.shape, model.linear.bias.shape)\n",
    "list(model.parameters())"
   ]
  },
  {
   "cell_type": "markdown",
   "id": "5d1e2601",
   "metadata": {},
   "source": [
    "New custom model can be used in the exact same way as before. Let's see if it works."
   ]
  },
  {
   "cell_type": "code",
   "execution_count": 22,
   "id": "764d1e69",
   "metadata": {},
   "outputs": [
    {
     "name": "stdout",
     "output_type": "stream",
     "text": [
      "outputs.shape:  torch.Size([128, 10])\n",
      "Sample uptputs:\n",
      " tensor([[-0.0056, -0.1974, -0.3899, -0.3113,  0.1943, -0.2079,  0.1335,  0.0008,\n",
      "         -0.1236,  0.0335],\n",
      "        [-0.2186, -0.2254, -0.1377, -0.2104,  0.1156, -0.0358,  0.3162,  0.1360,\n",
      "          0.0913, -0.1107]])\n"
     ]
    }
   ],
   "source": [
    "for images, labels in train_loader:\n",
    "    outputs = model(images)\n",
    "    break\n",
    "    \n",
    "\n",
    "print(\"outputs.shape: \", outputs.shape)\n",
    "print(\"Sample uptputs:\\n\", outputs[:2].data)"
   ]
  },
  {
   "cell_type": "code",
   "execution_count": 23,
   "id": "fabd315b",
   "metadata": {
    "scrolled": true
   },
   "outputs": [
    {
     "name": "stdout",
     "output_type": "stream",
     "text": [
      "Sample probabilities:\n",
      " tensor([[0.1068, 0.0881, 0.0727, 0.0787, 0.1304, 0.0872, 0.1227, 0.1075, 0.0949,\n",
      "         0.1110],\n",
      "        [0.0813, 0.0808, 0.0882, 0.0820, 0.1136, 0.0977, 0.1389, 0.1160, 0.1109,\n",
      "         0.0906]])\n",
      "Sum:  1.0\n"
     ]
    }
   ],
   "source": [
    "# def softmax(y):\n",
    "#     exp_sum = torch.sum(torch.exp(y), axis=1)\n",
    "#     return torch.exp(y) / exp_sum.reshape(-1, 1)\n",
    "\n",
    "# test_softmax = softmax(outputs.data)\n",
    "\n",
    "probs = F.softmax(outputs, dim=1)\n",
    "# test_softmax - probs\n",
    "\n",
    "# Look at sample probabilities\n",
    "print(\"Sample probabilities:\\n\", probs[:2].data)\n",
    "\n",
    "# Add up the probabilities of an output row\n",
    "print(\"Sum: \", torch.sum(probs[0]).item())"
   ]
  },
  {
   "cell_type": "code",
   "execution_count": 24,
   "id": "663ba929",
   "metadata": {
    "scrolled": true
   },
   "outputs": [
    {
     "name": "stdout",
     "output_type": "stream",
     "text": [
      "tensor([4, 6, 7, 7, 6, 6, 6, 7, 7, 9, 6, 7, 7, 0, 7, 7, 9, 6, 4, 9, 6, 4, 1, 4,\n",
      "        0, 7, 2, 4, 6, 3, 9, 4, 6, 6, 6, 0, 4, 6, 6, 4, 6, 7, 1, 7, 4, 1, 6, 6,\n",
      "        6, 0, 6, 6, 7, 4, 7, 4, 7, 6, 7, 0, 7, 6, 0, 7, 0, 6, 0, 0, 0, 6, 7, 6,\n",
      "        7, 6, 0, 2, 6, 8, 6, 4, 0, 7, 6, 7, 7, 6, 7, 7, 7, 7, 7, 7, 4, 7, 2, 4,\n",
      "        6, 6, 6, 4, 7, 8, 4, 6, 7, 7, 6, 0, 7, 6, 7, 4, 0, 7, 7, 4, 9, 6, 7, 6,\n",
      "        7, 6, 6, 6, 3, 6, 6, 7])\n",
      "tensor([0.1304, 0.1389, 0.1299, 0.1363, 0.1425, 0.1201, 0.1248, 0.1362, 0.1218,\n",
      "        0.1203, 0.1253, 0.1274, 0.1350, 0.1245, 0.1250, 0.1406, 0.1332, 0.1290,\n",
      "        0.1137, 0.1339, 0.1419, 0.1266, 0.1303, 0.1290, 0.1206, 0.1272, 0.1169,\n",
      "        0.1434, 0.1206, 0.1219, 0.1286, 0.1476, 0.1223, 0.1442, 0.1232, 0.1598,\n",
      "        0.1304, 0.1497, 0.1263, 0.1321, 0.1515, 0.1179, 0.1354, 0.1464, 0.1384,\n",
      "        0.1108, 0.1090, 0.1379, 0.1290, 0.1250, 0.1188, 0.1277, 0.1365, 0.1194,\n",
      "        0.1224, 0.1369, 0.1242, 0.1304, 0.1150, 0.1547, 0.1295, 0.1264, 0.1263,\n",
      "        0.1359, 0.1500, 0.1435, 0.1347, 0.1228, 0.1433, 0.1197, 0.1695, 0.1446,\n",
      "        0.1373, 0.1213, 0.1159, 0.1225, 0.1417, 0.1152, 0.1414, 0.1197, 0.1096,\n",
      "        0.1177, 0.1233, 0.1345, 0.1369, 0.1182, 0.1443, 0.1375, 0.1389, 0.1350,\n",
      "        0.1268, 0.1452, 0.1433, 0.1985, 0.1370, 0.1122, 0.1220, 0.1472, 0.1552,\n",
      "        0.1481, 0.1441, 0.1204, 0.1294, 0.1408, 0.1675, 0.1560, 0.1187, 0.1334,\n",
      "        0.1296, 0.1325, 0.1364, 0.1420, 0.1290, 0.1347, 0.1284, 0.1292, 0.1121,\n",
      "        0.1407, 0.1134, 0.1234, 0.1228, 0.1300, 0.1236, 0.1204, 0.1141, 0.1395,\n",
      "        0.1202, 0.1497], grad_fn=<MaxBackward0>)\n"
     ]
    }
   ],
   "source": [
    "max_probs, preds = torch.max(probs, dim=1)\n",
    "print(preds)\n",
    "print(max_probs)"
   ]
  },
  {
   "cell_type": "code",
   "execution_count": 25,
   "id": "1e7e1f92",
   "metadata": {},
   "outputs": [
    {
     "data": {
      "text/plain": [
       "tensor([2, 7, 9, 4, 7, 7, 3, 6, 4, 9, 8, 9, 6, 8, 4, 4, 6, 3, 1, 5, 4, 3, 0, 9,\n",
       "        1, 2, 1, 2, 7, 3, 5, 5, 9, 9, 7, 8, 5, 4, 4, 0, 4, 6, 0, 6, 3, 5, 1, 5,\n",
       "        2, 0, 1, 7, 7, 1, 7, 0, 8, 7, 1, 8, 2, 5, 1, 4, 8, 4, 5, 8, 8, 9, 9, 8,\n",
       "        0, 4, 1, 2, 8, 4, 8, 8, 5, 4, 3, 4, 1, 7, 4, 8, 2, 8, 2, 9, 0, 6, 5, 1,\n",
       "        7, 0, 8, 0, 6, 8, 0, 7, 9, 6, 9, 8, 5, 3, 6, 5, 1, 8, 9, 8, 3, 9, 1, 4,\n",
       "        3, 5, 0, 5, 3, 3, 3, 6])"
      ]
     },
     "execution_count": 25,
     "metadata": {},
     "output_type": "execute_result"
    }
   ],
   "source": [
    "labels"
   ]
  },
  {
   "cell_type": "markdown",
   "id": "a50075da",
   "metadata": {},
   "source": [
    "Now it is not a good predicting. It's because was used only random initialization."
   ]
  },
  {
   "cell_type": "markdown",
   "id": "fd58f231",
   "metadata": {},
   "source": [
    "## Evaluation Metric and Loss Function"
   ]
  },
  {
   "cell_type": "markdown",
   "id": "d0174f0d",
   "metadata": {},
   "source": [
    "***Evalution Metric:***"
   ]
  },
  {
   "cell_type": "markdown",
   "id": "338b55b8",
   "metadata": {},
   "source": [
    "I use **accuracy** as mesure how well is prediction. It can be done with softmax function. But I use simplify estimate because it equivalent for my goal (equivalent relation for linear function and exponential function $\\leftrightarrow$ if linear function grows-up, then exponential function grows-up, if linear down, exp down). \n",
    "\n",
    "\n",
    "$\\mathbb{1}$  - indicator-function.\n",
    "\n",
    "$$\\mathbb{1}_i =\\begin{equation}\n",
    "\\left\\{ \n",
    "  \\begin{array}\\\\\n",
    "    1 & \\mbox{if } \\hat{y} = y\\\\\n",
    "    0 & \\mbox{if } \\hat{y} \\neq y\\\\\n",
    "  \\end{array}\n",
    "  \\right.\n",
    "\\end{equation}\n",
    "$$\n",
    "\n",
    "$$accuracy = \\frac{1}{m}\\sum_{i=1}^{m} \\mathbb{1}_i\n",
    "$$\n",
    "\n",
    "<!-- HIDE\n",
    "$$L =\\begin{equation}\n",
    "\\left\\{ \n",
    "  \\begin{aligned}\n",
    "    1,\\space \\text{ if }\\ \\hat{y} = y\\\\\n",
    "    -x&+8\\,y&   &=&3\\\\\n",
    "  \\end{aligned}\n",
    "  \\right.\n",
    "\\end{equation}\n",
    "$$ -->"
   ]
  },
  {
   "cell_type": "code",
   "execution_count": 26,
   "id": "89ccf8c1",
   "metadata": {},
   "outputs": [],
   "source": [
    "def accuracy(outputs, labels):\n",
    "    _, preds = torch.max(outputs, dim=1)\n",
    "    return torch.tensor(torch.sum(preds == labels).item() / len(preds))"
   ]
  },
  {
   "cell_type": "markdown",
   "id": "eb4d3a2d",
   "metadata": {},
   "source": [
    "Get accuracy of the current model"
   ]
  },
  {
   "cell_type": "code",
   "execution_count": 27,
   "id": "55531f17",
   "metadata": {},
   "outputs": [
    {
     "data": {
      "text/plain": [
       "tensor(0.0625)"
      ]
     },
     "execution_count": 27,
     "metadata": {},
     "output_type": "execute_result"
    }
   ],
   "source": [
    "accuracy(outputs, labels)"
   ]
  },
  {
   "cell_type": "markdown",
   "id": "5f896b29",
   "metadata": {},
   "source": [
    "***Loss function:***"
   ]
  },
  {
   "cell_type": "code",
   "execution_count": 28,
   "id": "9fc9b910",
   "metadata": {},
   "outputs": [],
   "source": [
    "loss_fn = F.cross_entropy"
   ]
  },
  {
   "cell_type": "code",
   "execution_count": 29,
   "id": "9fe1617a",
   "metadata": {},
   "outputs": [
    {
     "name": "stdout",
     "output_type": "stream",
     "text": [
      "tensor(2.3242, grad_fn=<NllLossBackward>)\n"
     ]
    }
   ],
   "source": [
    "# Loss for current betch of data\n",
    "loss = loss_fn(outputs, labels)\n",
    "print(loss)"
   ]
  },
  {
   "cell_type": "markdown",
   "id": "dcaed3e3",
   "metadata": {},
   "source": [
    "### Training the model\n",
    "**Structure:**\n",
    "```python\n",
    "for epoch in range(num_epochs):\n",
    "    # Training phase\n",
    "    for batch in train_loader:\n",
    "        # Generate predictions\n",
    "        # Calculate loss\n",
    "        # Compute gradients\n",
    "        # Update weights\n",
    "        # Reset gradients\n",
    "\n",
    "    # Validation phase\n",
    "    for batch in val_loader:\n",
    "        # Generate predictions\n",
    "        # Calculate loss\n",
    "        # Calculate metrics (accuracy etc.)\n",
    "    # Calculate average validation loss & metrics\n",
    "\n",
    "    # Log epoch, loss & metrics for inspection\n",
    "```"
   ]
  },
  {
   "cell_type": "code",
   "execution_count": 37,
   "id": "3337aff5",
   "metadata": {},
   "outputs": [],
   "source": [
    "class MnistModel(nn.Module):\n",
    "    def __init__(self):\n",
    "        super().__init__()\n",
    "        self.linear = nn.Linear(input_size, num_classes)\n",
    "        \n",
    "    def forward(self, xb):\n",
    "        xb = xb.reshape(-1, 784)\n",
    "        out = self.linear(xb)\n",
    "        return out\n",
    "    \n",
    "    def training_step(self, batch):\n",
    "        images, labels = batch\n",
    "        out = self(images)                  # Generate predictions\n",
    "        loss = F.cross_entropy(out, labels) # Calculate loss\n",
    "        return loss\n",
    "    \n",
    "    def validation_step(self, batch):\n",
    "        images, labels = batch\n",
    "        out = self(images)                    # Generate predictions\n",
    "        loss = F.cross_entropy(out, labels)   # Calculate loss\n",
    "        acc = accuracy(out, labels)           # Calculate accuracy\n",
    "        return {'val_loss': loss, 'val_acc': acc}\n",
    "    \n",
    "    def validation_epoch_end(self, outputs):\n",
    "        batch_losses = [x['val_loss'] for x in outputs]\n",
    "        epoch_loss = torch.stack(batch_losses).mean()   # Combine loss\n",
    "        batch_accs = [x['val_acc'] for x in outputs]\n",
    "        epoch_acc = torch.stack(batch_accs).mean()      # Combine accuracies\n",
    "        return {'val_loss': epoch_loss.item(), 'val_acc': epoch_acc.item()}\n",
    "        \n",
    "    def epoch_end(self, epoch, result):\n",
    "        print(\"Epoch [{}], val_loss: {:.4f}, val_acc: {:.4f}\".format(epoch, \n",
    "                                                                     result['val_loss'], \n",
    "                                                                     result['val_acc']))\n",
    "        \n",
    "model = MnistModel()"
   ]
  },
  {
   "cell_type": "code",
   "execution_count": 38,
   "id": "692f557f",
   "metadata": {},
   "outputs": [],
   "source": [
    "def evaluate(model, val_loader):\n",
    "    outputs = [model.validation_step(batch) for batch in val_loader]\n",
    "    return model.validation_epoch_end(outputs)\n",
    "\n",
    "def fit(epochs, lr, model, train_loader, bal_loader, opt_func=torch.optim.SGD):\n",
    "    history = []\n",
    "    optimizer = opt_func(model.parameters(), lr)\n",
    "    for epoch in range(epochs):\n",
    "        \n",
    "        # train \n",
    "        for batch in train_loader:\n",
    "            loss = model.training_step(batch)\n",
    "            loss.backward()\n",
    "            optimizer.step()\n",
    "            optimizer.zero_grad()\n",
    "            \n",
    "        # validation\n",
    "        result = evaluate(model, val_loader)\n",
    "        model.epoch_end(epoch, result)\n",
    "        history.append(result)\n",
    "    return history"
   ]
  },
  {
   "cell_type": "code",
   "execution_count": 39,
   "id": "503810ee",
   "metadata": {},
   "outputs": [
    {
     "data": {
      "text/plain": [
       "{'val_loss': 2.3128445148468018, 'val_acc': 0.09414556622505188}"
      ]
     },
     "execution_count": 39,
     "metadata": {},
     "output_type": "execute_result"
    }
   ],
   "source": [
    "result0 = evaluate(model, val_loader)\n",
    "result0"
   ]
  },
  {
   "cell_type": "code",
   "execution_count": 40,
   "id": "755011a6",
   "metadata": {},
   "outputs": [
    {
     "name": "stdout",
     "output_type": "stream",
     "text": [
      "Epoch [0], val_loss: 1.9476, val_acc: 0.6044\n",
      "Epoch [1], val_loss: 1.6789, val_acc: 0.7114\n",
      "Epoch [2], val_loss: 1.4781, val_acc: 0.7553\n",
      "Epoch [3], val_loss: 1.3262, val_acc: 0.7801\n",
      "Epoch [4], val_loss: 1.2091, val_acc: 0.7977\n"
     ]
    }
   ],
   "source": [
    "history1 = fit(5, 0.001, model, train_loader, val_loader)"
   ]
  },
  {
   "cell_type": "code",
   "execution_count": 41,
   "id": "9fc6a40f",
   "metadata": {},
   "outputs": [
    {
     "name": "stdout",
     "output_type": "stream",
     "text": [
      "Epoch [0], val_loss: 1.1169, val_acc: 0.8084\n",
      "Epoch [1], val_loss: 1.0428, val_acc: 0.8170\n",
      "Epoch [2], val_loss: 0.9821, val_acc: 0.8244\n",
      "Epoch [3], val_loss: 0.9317, val_acc: 0.8281\n",
      "Epoch [4], val_loss: 0.8889, val_acc: 0.8335\n"
     ]
    }
   ],
   "source": [
    "history2 = fit(5, 0.001, model, train_loader, val_loader)"
   ]
  },
  {
   "cell_type": "code",
   "execution_count": 42,
   "id": "9611463c",
   "metadata": {},
   "outputs": [
    {
     "name": "stdout",
     "output_type": "stream",
     "text": [
      "Epoch [0], val_loss: 0.8523, val_acc: 0.8356\n",
      "Epoch [1], val_loss: 0.8206, val_acc: 0.8387\n",
      "Epoch [2], val_loss: 0.7928, val_acc: 0.8410\n",
      "Epoch [3], val_loss: 0.7683, val_acc: 0.8441\n",
      "Epoch [4], val_loss: 0.7465, val_acc: 0.8474\n"
     ]
    }
   ],
   "source": [
    "history3 = fit(5, 0.001, model, train_loader, val_loader)"
   ]
  },
  {
   "cell_type": "code",
   "execution_count": 43,
   "id": "75070d63",
   "metadata": {},
   "outputs": [
    {
     "name": "stdout",
     "output_type": "stream",
     "text": [
      "Epoch [0], val_loss: 0.7270, val_acc: 0.8497\n",
      "Epoch [1], val_loss: 0.7093, val_acc: 0.8519\n",
      "Epoch [2], val_loss: 0.6934, val_acc: 0.8527\n",
      "Epoch [3], val_loss: 0.6788, val_acc: 0.8544\n",
      "Epoch [4], val_loss: 0.6655, val_acc: 0.8562\n"
     ]
    }
   ],
   "source": [
    "history4 = fit(5, 0.001, model, train_loader, val_loader)"
   ]
  },
  {
   "cell_type": "code",
   "execution_count": 45,
   "id": "e7a95b75",
   "metadata": {},
   "outputs": [
    {
     "data": {
      "image/png": "[encoded data removed]",
      "text/plain": [
       "<Figure size 432x288 with 1 Axes>"
      ]
     },
     "metadata": {
      "needs_background": "light"
     },
     "output_type": "display_data"
    }
   ],
   "source": [
    "history = [result0] + history1 + history2 + history3\n",
    "accuracies = [result['val_acc'] for result in history]\n",
    "plt.plot(accuracies, '-x')\n",
    "plt.xlabel('epoch')\n",
    "plt.ylabel('accuracy')\n",
    "plt.title('Accuracy vs. No. of epochs');"
   ]
  }
 ],
 "metadata": {
  "kernelspec": {
   "display_name": "ml",
   "language": "python",
   "name": "ml"
  },
  "language_info": {
   "codemirror_mode": {
    "name": "ipython",
    "version": 3
   },
   "file_extension": ".py",
   "mimetype": "text/x-python",
   "name": "python",
   "nbconvert_exporter": "python",
   "pygments_lexer": "ipython3",
   "version": "3.8.8"
  }
 },
 "nbformat": 4,
 "nbformat_minor": 5
}
