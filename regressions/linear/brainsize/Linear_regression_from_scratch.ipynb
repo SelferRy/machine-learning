{
 "cells": [
  {
   "cell_type": "code",
   "execution_count": 1,
   "id": "72135f19",
   "metadata": {},
   "outputs": [],
   "source": [
    "import numpy as np\n",
    "import matplotlib.pyplot as plt\n",
    "from matplotlib import rcParams\n",
    "rcParams['figure.figsize'] = (14, 7)\n",
    "rcParams['axes.spines.top'] = False\n",
    "rcParams['axes.spines.right'] = False"
   ]
  },
  {
   "cell_type": "code",
   "execution_count": 2,
   "id": "6dcc47b9",
   "metadata": {},
   "outputs": [],
   "source": [
    "class LinearRegression:\n",
    "    '''\n",
    "    A class which implements linear regression model with gradient descent.\n",
    "    '''\n",
    "    def __init__(self, learning_rate=0.01, n_iterations=10000):\n",
    "        self.learning_rate = learning_rate\n",
    "        self.n_iterations = n_iterations\n",
    "        self.parameters = {\"W\": None, \"b\": None}\n",
    "        self.loss = []\n",
    "        \n",
    "    @staticmethod\n",
    "    def _mean_squared_error(y, y_hat):\n",
    "        '''\n",
    "        Private method, used to evaluate loss at each iteration.\n",
    "        \n",
    "        :param: y - array, true values\n",
    "        :param: y_hat - array, predicted values\n",
    "        :return: float\n",
    "        '''\n",
    "        m = y_hat.shape[0]\n",
    "        error = 1/m * np.mean(np.square(y_hat - y))\n",
    "        return error\n",
    "    \n",
    "    def fit(self, X, y, optimizer=\"gradient descent\", beta1=0.9, beta2=0.999, epsilon=1e-8):\n",
    "        '''\n",
    "        Used to calculate the coefficient of the linear regression model.\n",
    "        \n",
    "        :param X: array, features\n",
    "        :param y: array, true values\n",
    "        :return: None\n",
    "        '''\n",
    "        # 1. Initialize weights and bias to zeros\n",
    "        m = X.shape[0]\n",
    "        y = y.reshape(-1, 1)\n",
    "        self.parameters[\"W\"], self.parameters[\"b\"] = np.zeros((X.shape[1], 1)), 0 # np.zeros((X.shape[0], 1))\n",
    "        grads = {}\n",
    "        v, s, v_correct, s_correct = ({},) * 4\n",
    "        t = 0\n",
    "        for key, shape in zip([\"W\", \"dW\", \"b\", \"db\"], \n",
    "                              [self.parameters[\"W\"].shape, self.parameters[\"W\"].shape, 1, 1]):\n",
    "            v[key], s[key] = np.zeros(shape), np.zeros(shape)\n",
    "    \n",
    "        # 2. Perform gradient descent\n",
    "        for i in range(self.n_iterations):\n",
    "            # Line equation\n",
    "            y_hat = np.dot(X, self.parameters[\"W\"]) + self.parameters[\"b\"]\n",
    "            loss = self._mean_squared_error(y, y_hat)\n",
    "            self.loss.append(loss)\n",
    "            \n",
    "            # Calculate derivatives\n",
    "            grads[\"dW\"] = 1 / m * np.dot(X.T, (y_hat - y))  # 2 *\n",
    "            grads[\"db\"] = 1 / m * np.sum(y_hat - y) # 2 *\n",
    "            \n",
    "            # Update the coefficients\n",
    "            if optimizer == \"gradient descent\":\n",
    "                for key, d_key in zip([\"W\", \"b\"], [\"dW\", \"db\"]):\n",
    "                    self.parameters[key] -= self.learning_rate * grads[d_key]\n",
    "            if optimizer == \"adam\":\n",
    "                t += 1\n",
    "                for key, d_key in zip([\"W\", \"b\"], [\"dW\", \"db\"]):\n",
    "                    v[d_key] = beta1 * v[d_key] + (1 - beta1) * grads[d_key]\n",
    "                    s[d_key] = beta2 * s[d_key] + (1 - beta2) * np.square(grads[d_key])\n",
    "                    v_correct[d_key] = v[d_key] / (1 - np.power(beta1, t))\n",
    "                    s_correct[d_key] = s[d_key] / (1 - np.power(beta2, t))\n",
    "                    self.parameters[key] -= self.learning_rate * v_correct[d_key] / (np.sqrt(abs(s_correct[d_key])) + epsilon)\n",
    "                \n",
    "        \n",
    "        \n",
    "    def predict(self, X):\n",
    "        '''\n",
    "        Makes predictions using the line equation.\n",
    "        \n",
    "        :param X: array, features\n",
    "        :return: array, predictions\n",
    "        '''\n",
    "        W, b = self.parameters[\"W\"], self.parameters[\"b\"]\n",
    "        return np.dot(X, W) + b"
   ]
  },
  {
   "cell_type": "code",
   "execution_count": 3,
   "id": "16bd2a1c",
   "metadata": {},
   "outputs": [],
   "source": [
    "from sklearn.datasets import load_diabetes\n",
    "\n",
    "data = load_diabetes()\n",
    "X = data.data\n",
    "y = data.target"
   ]
  },
  {
   "cell_type": "code",
   "execution_count": 4,
   "id": "53fd0f0f",
   "metadata": {},
   "outputs": [
    {
     "name": "stderr",
     "output_type": "stream",
     "text": [
      "<ipython-input-2-367b56739997>:64: RuntimeWarning: overflow encountered in true_divide\n",
      "  s_correct[d_key] = s[d_key] / (1 - np.power(beta2, t))\n",
      "<ipython-input-2-367b56739997>:65: RuntimeWarning: invalid value encountered in true_divide\n",
      "  self.parameters[key] -= self.learning_rate * v_correct[d_key] / (np.sqrt(abs(s_correct[d_key])) + epsilon)\n"
     ]
    }
   ],
   "source": [
    "from sklearn.model_selection import train_test_split\n",
    "\n",
    "X_train, X_test, y_train, y_test = train_test_split(X, y, test_size=0.2, random_state=42)\n",
    "X_train = (X_train - X_train.mean()) / X_train.std()\n",
    "X_test = (X_test - X_test.mean()) / X_test.std()\n",
    "\n",
    "model = LinearRegression(learning_rate=0.00001)\n",
    "model.fit(X_train, y_train, optimizer=\"adam\")\n",
    "preds = model.predict(X_test)"
   ]
  },
  {
   "cell_type": "code",
   "execution_count": 5,
   "id": "b5e014a5",
   "metadata": {},
   "outputs": [
    {
     "data": {
      "text/plain": [
       "(89,)"
      ]
     },
     "execution_count": 5,
     "metadata": {},
     "output_type": "execute_result"
    }
   ],
   "source": [
    "y_test.shape"
   ]
  },
  {
   "cell_type": "code",
   "execution_count": 6,
   "id": "27170bdf",
   "metadata": {
    "scrolled": true
   },
   "outputs": [
    {
     "data": {
      "image/png": "[encoded data removed]",
      "text/plain": [
       "<Figure size 1008x504 with 1 Axes>"
      ]
     },
     "metadata": {
      "needs_background": "light"
     },
     "output_type": "display_data"
    }
   ],
   "source": [
    "xs = np.arange(len(model.loss))\n",
    "ys = model.loss\n",
    "\n",
    "plt.plot(xs, ys, lw=3, c='#087E8B')\n",
    "plt.title('Loss per iteration (MSE)', size=20)\n",
    "plt.xlabel('Iteration', size=14)\n",
    "plt.ylabel('Loss', size=14)\n",
    "plt.show()"
   ]
  },
  {
   "cell_type": "code",
   "execution_count": 7,
   "id": "de1930e4",
   "metadata": {
    "scrolled": true
   },
   "outputs": [
    {
     "name": "stderr",
     "output_type": "stream",
     "text": [
      "C:\\Users\\fqdg1\\.conda\\envs\\ml\\lib\\site-packages\\numpy\\core\\_methods.py:160: RuntimeWarning: overflow encountered in reduce\n",
      "  ret = umr_sum(arr, axis, dtype, out, keepdims)\n",
      "<ipython-input-2-367b56739997>:21: RuntimeWarning: overflow encountered in square\n",
      "  error = 1/m * np.mean(np.square(y_hat - y))\n",
      "<ipython-input-2-367b56739997>:64: RuntimeWarning: overflow encountered in true_divide\n",
      "  s_correct[d_key] = s[d_key] / (1 - np.power(beta2, t))\n",
      "<ipython-input-2-367b56739997>:65: RuntimeWarning: invalid value encountered in true_divide\n",
      "  self.parameters[key] -= self.learning_rate * v_correct[d_key] / (np.sqrt(abs(s_correct[d_key])) + epsilon)\n"
     ]
    },
    {
     "data": {
      "image/png": "[encoded data removed]",
      "text/plain": [
       "<Figure size 1008x504 with 1 Axes>"
      ]
     },
     "metadata": {
      "needs_background": "light"
     },
     "output_type": "display_data"
    }
   ],
   "source": [
    "losses = {}\n",
    "for lr in [0.5, 0.1, 0.01, 0.001]:\n",
    "    model = LinearRegression(learning_rate=lr)\n",
    "    model.fit(X_train, y_train, optimizer=\"adam\")\n",
    "    losses[f'LR={str(lr)}'] = model.loss\n",
    "    \n",
    "    \n",
    "xs = np.arange(len(model.loss))\n",
    "\n",
    "plt.plot(xs, losses['LR=0.5'], lw=3, label=f\"LR = 0.5, Final = {losses['LR=0.5'][-1]:.2f}\")\n",
    "plt.plot(xs, losses['LR=0.1'], lw=3, label=f\"LR = 0.1, Final = {losses['LR=0.1'][-1]:.2f}\")\n",
    "plt.plot(xs, losses['LR=0.01'], lw=3, label=f\"LR = 0.01, Final = {losses['LR=0.01'][-1]:.2f}\")\n",
    "plt.plot(xs, losses['LR=0.001'], lw=3, label=f\"LR = 0.001, Final = {losses['LR=0.001'][-1]:.2f}\")\n",
    "plt.title('Loss per iteration (MSE) for different learning rates', size=20)\n",
    "plt.xlabel('Iteration', size=14)\n",
    "plt.ylabel('Loss', size=14)\n",
    "plt.legend()\n",
    "plt.show()"
   ]
  },
  {
   "cell_type": "code",
   "execution_count": 8,
   "id": "228ce31e",
   "metadata": {},
   "outputs": [
    {
     "name": "stderr",
     "output_type": "stream",
     "text": [
      "C:\\Users\\fqdg1\\.conda\\envs\\ml\\lib\\site-packages\\numpy\\core\\_methods.py:160: RuntimeWarning: overflow encountered in reduce\n",
      "  ret = umr_sum(arr, axis, dtype, out, keepdims)\n",
      "<ipython-input-2-367b56739997>:21: RuntimeWarning: overflow encountered in square\n",
      "  error = 1/m * np.mean(np.square(y_hat - y))\n",
      "<ipython-input-2-367b56739997>:64: RuntimeWarning: overflow encountered in true_divide\n",
      "  s_correct[d_key] = s[d_key] / (1 - np.power(beta2, t))\n",
      "<ipython-input-2-367b56739997>:65: RuntimeWarning: invalid value encountered in true_divide\n",
      "  self.parameters[key] -= self.learning_rate * v_correct[d_key] / (np.sqrt(abs(s_correct[d_key])) + epsilon)\n"
     ]
    },
    {
     "data": {
      "text/plain": [
       "nan"
      ]
     },
     "execution_count": 8,
     "metadata": {},
     "output_type": "execute_result"
    }
   ],
   "source": [
    "model = LinearRegression(learning_rate=0.5)\n",
    "model.fit(X_train, y_train, optimizer=\"adam\")\n",
    "preds = model.predict(X_test)\n",
    "\n",
    "model._mean_squared_error(y_test, preds)"
   ]
  },
  {
   "cell_type": "code",
   "execution_count": 9,
   "id": "415cde73",
   "metadata": {
    "scrolled": true
   },
   "outputs": [
    {
     "data": {
      "text/plain": [
       "2885.675984433233"
      ]
     },
     "execution_count": 9,
     "metadata": {},
     "output_type": "execute_result"
    }
   ],
   "source": [
    "from sklearn.linear_model import LinearRegression\n",
    "from sklearn.metrics import mean_squared_error\n",
    "\n",
    "lr_model = LinearRegression()\n",
    "lr_model.fit(X_train, y_train)\n",
    "lr_preds = lr_model.predict(X_test)\n",
    "\n",
    "mean_squared_error(y_test, lr_preds)"
   ]
  },
  {
   "cell_type": "code",
   "execution_count": 10,
   "id": "ee0df535",
   "metadata": {},
   "outputs": [
    {
     "data": {
      "text/plain": [
       "array([0.])"
      ]
     },
     "execution_count": 10,
     "metadata": {},
     "output_type": "execute_result"
    }
   ],
   "source": [
    "np.zeros((1))"
   ]
  },
  {
   "cell_type": "code",
   "execution_count": null,
   "id": "5503eab8",
   "metadata": {},
   "outputs": [],
   "source": []
  },
  {
   "cell_type": "code",
   "execution_count": 11,
   "id": "6c42427e",
   "metadata": {},
   "outputs": [
    {
     "data": {
      "text/plain": [
       "array([10.98498585,  8.79053797, 14.18718105, 20.08463598, 11.95834418])"
      ]
     },
     "execution_count": 11,
     "metadata": {},
     "output_type": "execute_result"
    }
   ],
   "source": [
    "def generate_data(nb):\n",
    "    x = np.array([])\n",
    "    y = np.array([])\n",
    "    for i in range(nb):\n",
    "        x = np.insert(x, len(x), 1)\n",
    "        y = np.insert(y, len(y), 1/2 + np.random.rand()*20)\n",
    "    return x, y\n",
    "\n",
    "generate_data(5)[0] * generate_data(5)[1]"
   ]
  }
 ],
 "metadata": {
  "kernelspec": {
   "display_name": "Python 3",
   "language": "python",
   "name": "python3"
  },
  "language_info": {
   "codemirror_mode": {
    "name": "ipython",
    "version": 3
   },
   "file_extension": ".py",
   "mimetype": "text/x-python",
   "name": "python",
   "nbconvert_exporter": "python",
   "pygments_lexer": "ipython3",
   "version": "3.8.8"
  }
 },
 "nbformat": 4,
 "nbformat_minor": 5
}
