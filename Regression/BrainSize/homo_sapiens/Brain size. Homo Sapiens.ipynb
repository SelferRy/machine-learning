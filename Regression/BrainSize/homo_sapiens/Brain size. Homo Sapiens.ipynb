{
 "cells": [
  {
   "cell_type": "code",
   "execution_count": 1,
   "id": "f96a02df",
   "metadata": {},
   "outputs": [],
   "source": [
    "import pandas as pd\n",
    "import numpy as np\n",
    "import seaborn as sns\n",
    "import matplotlib.pyplot as plt\n",
    "\n",
    "import tensorflow as tf\n",
    "from tensorflow import keras \n",
    "from tensorflow.keras import layers\n",
    "from tensorflow.keras.layers.experimental import preprocessing"
   ]
  },
  {
   "cell_type": "markdown",
   "id": "b16b262b",
   "metadata": {},
   "source": [
    "# Data analys and plot"
   ]
  },
  {
   "cell_type": "code",
   "execution_count": 2,
   "id": "b23c52ac",
   "metadata": {},
   "outputs": [],
   "source": [
    "dataset = pd.read_csv(\"headbrain.csv\")"
   ]
  },
  {
   "cell_type": "code",
   "execution_count": 3,
   "id": "b0e36813",
   "metadata": {
    "scrolled": true
   },
   "outputs": [
    {
     "name": "stdout",
     "output_type": "stream",
     "text": [
      "237 4\n"
     ]
    },
    {
     "data": {
      "text/html": [
       "<div>\n",
       "<style scoped>\n",
       "    .dataframe tbody tr th:only-of-type {\n",
       "        vertical-align: middle;\n",
       "    }\n",
       "\n",
       "    .dataframe tbody tr th {\n",
       "        vertical-align: top;\n",
       "    }\n",
       "\n",
       "    .dataframe thead th {\n",
       "        text-align: right;\n",
       "    }\n",
       "</style>\n",
       "<table border=\"1\" class=\"dataframe\">\n",
       "  <thead>\n",
       "    <tr style=\"text-align: right;\">\n",
       "      <th></th>\n",
       "      <th>Gender</th>\n",
       "      <th>Age Range</th>\n",
       "      <th>Head Size(cm^3)</th>\n",
       "      <th>Brain Weight(grams)</th>\n",
       "    </tr>\n",
       "  </thead>\n",
       "  <tbody>\n",
       "    <tr>\n",
       "      <th>0</th>\n",
       "      <td>1</td>\n",
       "      <td>1</td>\n",
       "      <td>4512</td>\n",
       "      <td>1530</td>\n",
       "    </tr>\n",
       "    <tr>\n",
       "      <th>1</th>\n",
       "      <td>1</td>\n",
       "      <td>1</td>\n",
       "      <td>3738</td>\n",
       "      <td>1297</td>\n",
       "    </tr>\n",
       "    <tr>\n",
       "      <th>2</th>\n",
       "      <td>1</td>\n",
       "      <td>1</td>\n",
       "      <td>4261</td>\n",
       "      <td>1335</td>\n",
       "    </tr>\n",
       "    <tr>\n",
       "      <th>3</th>\n",
       "      <td>1</td>\n",
       "      <td>1</td>\n",
       "      <td>3777</td>\n",
       "      <td>1282</td>\n",
       "    </tr>\n",
       "    <tr>\n",
       "      <th>4</th>\n",
       "      <td>1</td>\n",
       "      <td>1</td>\n",
       "      <td>4177</td>\n",
       "      <td>1590</td>\n",
       "    </tr>\n",
       "  </tbody>\n",
       "</table>\n",
       "</div>"
      ],
      "text/plain": [
       "   Gender  Age Range  Head Size(cm^3)  Brain Weight(grams)\n",
       "0       1          1             4512                 1530\n",
       "1       1          1             3738                 1297\n",
       "2       1          1             4261                 1335\n",
       "3       1          1             3777                 1282\n",
       "4       1          1             4177                 1590"
      ]
     },
     "execution_count": 3,
     "metadata": {},
     "output_type": "execute_result"
    }
   ],
   "source": [
    "print(*dataset.shape)\n",
    "dataset.head()"
   ]
  },
  {
   "cell_type": "code",
   "execution_count": 4,
   "id": "9e9c9dc3",
   "metadata": {},
   "outputs": [
    {
     "name": "stdout",
     "output_type": "stream",
     "text": [
      "<class 'pandas.core.frame.DataFrame'>\n",
      "RangeIndex: 237 entries, 0 to 236\n",
      "Data columns (total 4 columns):\n",
      " #   Column               Non-Null Count  Dtype\n",
      "---  ------               --------------  -----\n",
      " 0   Gender               237 non-null    int64\n",
      " 1   Age Range            237 non-null    int64\n",
      " 2   Head Size(cm^3)      237 non-null    int64\n",
      " 3   Brain Weight(grams)  237 non-null    int64\n",
      "dtypes: int64(4)\n",
      "memory usage: 7.5 KB\n"
     ]
    }
   ],
   "source": [
    "dataset.info()"
   ]
  },
  {
   "cell_type": "code",
   "execution_count": 5,
   "id": "4b411a26",
   "metadata": {},
   "outputs": [
    {
     "data": {
      "text/plain": [
       "Gender                 False\n",
       "Age Range              False\n",
       "Head Size(cm^3)        False\n",
       "Brain Weight(grams)    False\n",
       "dtype: bool"
      ]
     },
     "execution_count": 5,
     "metadata": {},
     "output_type": "execute_result"
    }
   ],
   "source": [
    "dataset.isnull().any()"
   ]
  },
  {
   "cell_type": "code",
   "execution_count": 6,
   "id": "bbb60010",
   "metadata": {},
   "outputs": [
    {
     "data": {
      "text/plain": [
       "Gender                   2\n",
       "Age Range                2\n",
       "Head Size(cm^3)        221\n",
       "Brain Weight(grams)    146\n",
       "dtype: int64"
      ]
     },
     "execution_count": 6,
     "metadata": {},
     "output_type": "execute_result"
    }
   ],
   "source": [
    "dataset.nunique()\n",
    "\n",
    "# dataset.family.unique()"
   ]
  },
  {
   "cell_type": "code",
   "execution_count": 7,
   "id": "f898be2f",
   "metadata": {
    "scrolled": false
   },
   "outputs": [],
   "source": [
    "train_dataset = dataset.sample(frac=0.8, random_state=0)\n",
    "test_dataset = dataset.drop(train_dataset.index)"
   ]
  },
  {
   "cell_type": "code",
   "execution_count": 8,
   "id": "aff18120",
   "metadata": {},
   "outputs": [
    {
     "data": {
      "image/png": "[encoded data removed]",
      "text/plain": [
       "<Figure size 720x360 with 1 Axes>"
      ]
     },
     "metadata": {
      "needs_background": "light"
     },
     "output_type": "display_data"
    }
   ],
   "source": [
    "df = pd.melt(train_dataset, 'Brain Weight(grams)', \"Head Size(cm^3)\")  # train_dataset.columns[-1], train_dataset.columns[-2]\n",
    "\n",
    "g = sns.FacetGrid(df, col=\"variable\", col_wrap=2, height=5)  #  hue=\"species\", \n",
    "g.map(sns.kdeplot, \"value\", shade=True)\n",
    "\n",
    "plt.show()"
   ]
  },
  {
   "cell_type": "code",
   "execution_count": 9,
   "id": "bccf19c0",
   "metadata": {
    "scrolled": false
   },
   "outputs": [
    {
     "data": {
      "text/plain": [
       "<seaborn.axisgrid.FacetGrid at 0x13471fa0cd0>"
      ]
     },
     "execution_count": 9,
     "metadata": {},
     "output_type": "execute_result"
    },
    {
     "data": {
      "image/png": "[encoded data removed]",
      "text/plain": [
       "<Figure size 360x360 with 1 Axes>"
      ]
     },
     "metadata": {
      "needs_background": "light"
     },
     "output_type": "display_data"
    }
   ],
   "source": [
    "sns.relplot(x=train_dataset.iloc[:, -2], y=train_dataset.iloc[:, -1])"
   ]
  },
  {
   "cell_type": "code",
   "execution_count": 10,
   "id": "f834af76",
   "metadata": {},
   "outputs": [
    {
     "data": {
      "text/html": [
       "<div>\n",
       "<style scoped>\n",
       "    .dataframe tbody tr th:only-of-type {\n",
       "        vertical-align: middle;\n",
       "    }\n",
       "\n",
       "    .dataframe tbody tr th {\n",
       "        vertical-align: top;\n",
       "    }\n",
       "\n",
       "    .dataframe thead th {\n",
       "        text-align: right;\n",
       "    }\n",
       "</style>\n",
       "<table border=\"1\" class=\"dataframe\">\n",
       "  <thead>\n",
       "    <tr style=\"text-align: right;\">\n",
       "      <th></th>\n",
       "      <th>count</th>\n",
       "      <th>mean</th>\n",
       "      <th>std</th>\n",
       "      <th>min</th>\n",
       "      <th>25%</th>\n",
       "      <th>50%</th>\n",
       "      <th>75%</th>\n",
       "      <th>max</th>\n",
       "    </tr>\n",
       "  </thead>\n",
       "  <tbody>\n",
       "    <tr>\n",
       "      <th>Head Size(cm^3)</th>\n",
       "      <td>190.0</td>\n",
       "      <td>3659.126316</td>\n",
       "      <td>362.904851</td>\n",
       "      <td>2857.0</td>\n",
       "      <td>3395.25</td>\n",
       "      <td>3647.5</td>\n",
       "      <td>3887.0</td>\n",
       "      <td>4747.0</td>\n",
       "    </tr>\n",
       "    <tr>\n",
       "      <th>Brain Weight(grams)</th>\n",
       "      <td>190.0</td>\n",
       "      <td>1288.863158</td>\n",
       "      <td>122.443950</td>\n",
       "      <td>1012.0</td>\n",
       "      <td>1212.00</td>\n",
       "      <td>1290.0</td>\n",
       "      <td>1356.5</td>\n",
       "      <td>1635.0</td>\n",
       "    </tr>\n",
       "  </tbody>\n",
       "</table>\n",
       "</div>"
      ],
      "text/plain": [
       "                     count         mean         std     min      25%     50%  \\\n",
       "Head Size(cm^3)      190.0  3659.126316  362.904851  2857.0  3395.25  3647.5   \n",
       "Brain Weight(grams)  190.0  1288.863158  122.443950  1012.0  1212.00  1290.0   \n",
       "\n",
       "                        75%     max  \n",
       "Head Size(cm^3)      3887.0  4747.0  \n",
       "Brain Weight(grams)  1356.5  1635.0  "
      ]
     },
     "execution_count": 10,
     "metadata": {},
     "output_type": "execute_result"
    }
   ],
   "source": [
    "train_stats = train_dataset.iloc[:, -2:]\n",
    "train_stats = train_stats.describe().T\n",
    "train_stats"
   ]
  },
  {
   "cell_type": "code",
   "execution_count": 11,
   "id": "fe31001b",
   "metadata": {
    "pycharm": {
     "name": "#%%\n"
    }
   },
   "outputs": [],
   "source": [
    "# X = train_dataset.copy()\n",
    "# Y = test_dataset.copy()\n",
    "\n",
    "train_labels = train_dataset[\"Head Size(cm^3)\"]  # .pop(\"Head Size(cm^3)\")\n",
    "test_labels = test_dataset[\"Head Size(cm^3)\"]  # .pop(\"Head Size(cm^3)\")"
   ]
  },
  {
   "cell_type": "markdown",
   "id": "34930bf3",
   "metadata": {},
   "source": [
    "<!-- ### Normalize the data \n",
    "<center> $ x_{norm} = {(x - x^{train}_{\\mu}) \\over x^{train}_{\\sigma} } $ <center> -->"
   ]
  },
  {
   "cell_type": "code",
   "execution_count": 12,
   "id": "0a338af9",
   "metadata": {},
   "outputs": [],
   "source": [
    "# def norm(x):\n",
    "#     stats = X.describe().T\n",
    "#     return (x - stats['mean']) / stats['std']\n",
    "#\n",
    "# x_norm = norm(X)\n",
    "# y_norm = norm(Y)\n",
    "brain_weight = np.array(train_dataset[\"Brain Weight(grams)\"])\n",
    "brain_weight_norm = preprocessing.Normalization(input_shape=[1,])\n",
    "brain_weight_norm.adapt(brain_weight)"
   ]
  },
  {
   "cell_type": "markdown",
   "id": "1cb9a5b1",
   "metadata": {},
   "source": [
    "# Model"
   ]
  },
  {
   "cell_type": "code",
   "execution_count": 13,
   "id": "46790fd5",
   "metadata": {},
   "outputs": [
    {
     "name": "stdout",
     "output_type": "stream",
     "text": [
      "Model: \"sequential\"\n",
      "_________________________________________________________________\n",
      "Layer (type)                 Output Shape              Param #   \n",
      "=================================================================\n",
      "normalization (Normalization (None, 1)                 3         \n",
      "_________________________________________________________________\n",
      "dense (Dense)                (None, 3)                 6         \n",
      "_________________________________________________________________\n",
      "dense_1 (Dense)              (None, 1)                 4         \n",
      "=================================================================\n",
      "Total params: 13\n",
      "Trainable params: 10\n",
      "Non-trainable params: 3\n",
      "_________________________________________________________________\n"
     ]
    }
   ],
   "source": [
    "brain_weight_model = keras.Sequential([\n",
    "    brain_weight_norm,\n",
    "    layers.Dense(units=3),\n",
    "#     layers.Dense(units=10),\n",
    "    layers.Dense(1)\n",
    "])\n",
    "\n",
    "brain_weight_model.summary()"
   ]
  },
  {
   "cell_type": "code",
   "execution_count": 14,
   "id": "1acd2195",
   "metadata": {
    "pycharm": {
     "name": "#%%\n"
    }
   },
   "outputs": [],
   "source": [
    "brain_weight_model.compile(\n",
    "    optimizer=tf.optimizers.Adam(learning_rate=0.3),\n",
    "    loss='mae')"
   ]
  },
  {
   "cell_type": "code",
   "execution_count": 15,
   "id": "206029ee",
   "metadata": {
    "pycharm": {
     "name": "#%%\n"
    }
   },
   "outputs": [
    {
     "name": "stdout",
     "output_type": "stream",
     "text": [
      "Wall time: 1.99 s\n"
     ]
    }
   ],
   "source": [
    "%%time\n",
    "history = brain_weight_model.fit(\n",
    "    train_dataset[\"Brain Weight(grams)\"], train_labels,\n",
    "    epochs=50,\n",
    "    verbose=0,\n",
    "    validation_split = 0.2)"
   ]
  },
  {
   "cell_type": "code",
   "execution_count": 16,
   "id": "e5111c91",
   "metadata": {
    "pycharm": {
     "name": "#%%\n"
    }
   },
   "outputs": [
    {
     "data": {
      "text/html": [
       "<div>\n",
       "<style scoped>\n",
       "    .dataframe tbody tr th:only-of-type {\n",
       "        vertical-align: middle;\n",
       "    }\n",
       "\n",
       "    .dataframe tbody tr th {\n",
       "        vertical-align: top;\n",
       "    }\n",
       "\n",
       "    .dataframe thead th {\n",
       "        text-align: right;\n",
       "    }\n",
       "</style>\n",
       "<table border=\"1\" class=\"dataframe\">\n",
       "  <thead>\n",
       "    <tr style=\"text-align: right;\">\n",
       "      <th></th>\n",
       "      <th>loss</th>\n",
       "      <th>val_loss</th>\n",
       "      <th>epoch</th>\n",
       "    </tr>\n",
       "  </thead>\n",
       "  <tbody>\n",
       "    <tr>\n",
       "      <th>45</th>\n",
       "      <td>173.176453</td>\n",
       "      <td>177.718292</td>\n",
       "      <td>45</td>\n",
       "    </tr>\n",
       "    <tr>\n",
       "      <th>46</th>\n",
       "      <td>172.764648</td>\n",
       "      <td>176.218231</td>\n",
       "      <td>46</td>\n",
       "    </tr>\n",
       "    <tr>\n",
       "      <th>47</th>\n",
       "      <td>172.540894</td>\n",
       "      <td>174.388184</td>\n",
       "      <td>47</td>\n",
       "    </tr>\n",
       "    <tr>\n",
       "      <th>48</th>\n",
       "      <td>172.633224</td>\n",
       "      <td>172.619858</td>\n",
       "      <td>48</td>\n",
       "    </tr>\n",
       "    <tr>\n",
       "      <th>49</th>\n",
       "      <td>171.910080</td>\n",
       "      <td>174.255188</td>\n",
       "      <td>49</td>\n",
       "    </tr>\n",
       "  </tbody>\n",
       "</table>\n",
       "</div>"
      ],
      "text/plain": [
       "          loss    val_loss  epoch\n",
       "45  173.176453  177.718292     45\n",
       "46  172.764648  176.218231     46\n",
       "47  172.540894  174.388184     47\n",
       "48  172.633224  172.619858     48\n",
       "49  171.910080  174.255188     49"
      ]
     },
     "execution_count": 16,
     "metadata": {},
     "output_type": "execute_result"
    }
   ],
   "source": [
    "hist = pd.DataFrame(history.history)\n",
    "hist['epoch'] = history.epoch\n",
    "hist.tail()"
   ]
  },
  {
   "cell_type": "markdown",
   "id": "0b74a429",
   "metadata": {},
   "source": [
    "with 1 hidden layer (3 units), lr = 1: 176.711197\t177.528580  \n",
    "with 1 hidden layer (3 units), lr = 0.3: 171.564560\t173.035248  \n",
    "with 2 hidden layer (3, 10 units), lr = 0.3: 197.403152\t189.431549  \n",
    "with 2 hidden layer (3, 10 units), lr = 1: 211.929810\t223.222916"
   ]
  },
  {
   "cell_type": "code",
   "execution_count": 17,
   "id": "a06a769a",
   "metadata": {
    "pycharm": {
     "name": "#%%\n"
    }
   },
   "outputs": [
    {
     "data": {
      "image/png": "[encoded data removed]",
      "text/plain": [
       "<Figure size 432x288 with 1 Axes>"
      ]
     },
     "metadata": {
      "needs_background": "light"
     },
     "output_type": "display_data"
    }
   ],
   "source": [
    "def plot_loss(history):\n",
    "    plt.plot(history.history['loss'], label='loss')\n",
    "    plt.plot(history.history['val_loss'], label='val_loss')\n",
    "#     plt.ylim([0, 70])\n",
    "    plt.xlabel('Epoch')\n",
    "    plt.ylabel('Error [Brain Weight(grams)]')\n",
    "    plt.legend()\n",
    "    plt.grid(True)\n",
    "\n",
    "plot_loss(history)"
   ]
  },
  {
   "cell_type": "code",
   "execution_count": 18,
   "id": "ef78729b",
   "metadata": {
    "pycharm": {
     "name": "#%%\n"
    }
   },
   "outputs": [
    {
     "name": "stdout",
     "output_type": "stream",
     "text": [
      "172.19688415527344 171.9100799560547 174.25518798828125\n"
     ]
    }
   ],
   "source": [
    "test_results = {}\n",
    "\n",
    "test_results[\"Brain Weight(grams)\"] = brain_weight_model.evaluate(\n",
    "    train_dataset[\"Brain Weight(grams)\"],\n",
    "    train_labels, verbose=0)\n",
    "\n",
    "print(test_results[\"Brain Weight(grams)\"], history.history['loss'][-1], history.history['val_loss'][-1])"
   ]
  },
  {
   "cell_type": "code",
   "execution_count": 19,
   "id": "9253d0d7",
   "metadata": {
    "pycharm": {
     "name": "#%%\n"
    },
    "scrolled": false
   },
   "outputs": [
    {
     "data": {
      "image/png": "[encoded data removed]",
      "text/plain": [
       "<Figure size 432x288 with 1 Axes>"
      ]
     },
     "metadata": {
      "needs_background": "light"
     },
     "output_type": "display_data"
    }
   ],
   "source": [
    "x = tf.linspace(1000., 1700, 500)\n",
    "y = brain_weight_model.predict(x)\n",
    "\n",
    "def plot_brain_weight(x, y):\n",
    "    plt.scatter(train_dataset[\"Brain Weight(grams)\"], train_labels, label=\"Data\")\n",
    "    plt.plot(x, y, color='k', label='Predictions')\n",
    "#     plt.ylim([0, 5000])\n",
    "    plt.xlabel('Head Size (cm^3)')\n",
    "    plt.ylabel('Brain Weight (grams)')\n",
    "    plt.legend()\n",
    "\n",
    "plot_brain_weight(x, y)"
   ]
  },
  {
   "cell_type": "markdown",
   "id": "5ba88efe",
   "metadata": {},
   "source": [
    "# MSE"
   ]
  },
  {
   "cell_type": "code",
   "execution_count": 20,
   "id": "09759111",
   "metadata": {},
   "outputs": [],
   "source": [
    "brain_weight_model = keras.Sequential([\n",
    "    brain_weight_norm,\n",
    "    layers.Dense(units=3),\n",
    "    layers.Dense(1)])\n",
    "\n",
    "# brain_weight_model.summary()\n",
    "\n",
    "brain_weight_model.compile(\n",
    "    optimizer=tf.optimizers.Adam(learning_rate=0.3),\n",
    "    loss='mse')\n",
    "\n",
    "\n",
    "history = brain_weight_model.fit(\n",
    "    train_dataset[\"Brain Weight(grams)\"], train_labels,\n",
    "    epochs=50,\n",
    "    verbose=0,\n",
    "    validation_split = 0.2)\n",
    "\n",
    "hist = pd.DataFrame(history.history)\n",
    "hist['epoch'] = history.epoch\n",
    "# hist.tail()"
   ]
  },
  {
   "cell_type": "code",
   "execution_count": 21,
   "id": "8210c719",
   "metadata": {
    "pycharm": {
     "name": "#%%\n"
    },
    "scrolled": true
   },
   "outputs": [
    {
     "data": {
      "image/png": "[encoded data removed]",
      "text/plain": [
       "<Figure size 432x288 with 1 Axes>"
      ]
     },
     "metadata": {
      "needs_background": "light"
     },
     "output_type": "display_data"
    }
   ],
   "source": [
    "def plot_loss(history):\n",
    "    plt.plot(history.history['loss'], label='loss')\n",
    "    plt.plot(history.history['val_loss'], label='val_loss')\n",
    "#     plt.ylim([0, 70])\n",
    "    plt.xlabel('Epoch')\n",
    "    plt.ylabel('Error [Brain Weight(grams)]')\n",
    "    plt.legend()\n",
    "    plt.grid(True)\n",
    "\n",
    "plot_loss(history)"
   ]
  },
  {
   "cell_type": "code",
   "execution_count": 22,
   "id": "943d6e22",
   "metadata": {
    "pycharm": {
     "name": "#%%\n"
    }
   },
   "outputs": [
    {
     "name": "stdout",
     "output_type": "stream",
     "text": [
      "222.81026471529538 224.05428855246222 217.8138898807879\n"
     ]
    },
    {
     "data": {
      "image/png": "[encoded data removed]",
      "text/plain": [
       "<Figure size 432x288 with 1 Axes>"
      ]
     },
     "metadata": {
      "needs_background": "light"
     },
     "output_type": "display_data"
    }
   ],
   "source": [
    "test_results = {}\n",
    "\n",
    "test_results[\"Brain Weight(grams)\"] = brain_weight_model.evaluate(\n",
    "    train_dataset[\"Brain Weight(grams)\"],\n",
    "    train_labels, verbose=0)\n",
    "\n",
    "print(np.sqrt(test_results[\"Brain Weight(grams)\"]), \n",
    "      np.sqrt(history.history['loss'][-1]), \n",
    "      np.sqrt(history.history['val_loss'][-1]))\n",
    "\n",
    "x = tf.linspace(1000., 1700, 500)\n",
    "y = brain_weight_model.predict(x)\n",
    "\n",
    "def plot_brain_weight(x, y):\n",
    "    plt.scatter(train_dataset[\"Brain Weight(grams)\"], train_labels, label=\"Data\")\n",
    "    plt.plot(x, y, color='k', label='Predictions')\n",
    "#     plt.ylim([0, 5000])\n",
    "    plt.xlabel('Head Size (cm^3)')\n",
    "    plt.ylabel('Brain Weight (grams)')\n",
    "    plt.legend()\n",
    "\n",
    "plot_brain_weight(x, y)"
   ]
  }
 ],
 "metadata": {
  "kernelspec": {
   "display_name": "ml",
   "language": "python",
   "name": "ml"
  },
  "language_info": {
   "codemirror_mode": {
    "name": "ipython",
    "version": 3
   },
   "file_extension": ".py",
   "mimetype": "text/x-python",
   "name": "python",
   "nbconvert_exporter": "python",
   "pygments_lexer": "ipython3",
   "version": "3.8.8"
  }
 },
 "nbformat": 4,
 "nbformat_minor": 5
}
