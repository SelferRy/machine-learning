{
 "cells": [
  {
   "cell_type": "code",
   "execution_count": 36,
   "id": "50ff5783",
   "metadata": {},
   "outputs": [],
   "source": [
    "import pandas as pd\n",
    "import numpy as np\n",
    "import seaborn as sns"
   ]
  },
  {
   "cell_type": "code",
   "execution_count": 3,
   "id": "cc28d623",
   "metadata": {},
   "outputs": [],
   "source": [
    "dataset = pd.read_csv(\"BrainAllometry_Supplement_Data.csv\")"
   ]
  },
  {
   "cell_type": "code",
   "execution_count": 5,
   "id": "304d1320",
   "metadata": {},
   "outputs": [
    {
     "data": {
      "text/html": [
       "<div>\n",
       "<style scoped>\n",
       "    .dataframe tbody tr th:only-of-type {\n",
       "        vertical-align: middle;\n",
       "    }\n",
       "\n",
       "    .dataframe tbody tr th {\n",
       "        vertical-align: top;\n",
       "    }\n",
       "\n",
       "    .dataframe thead th {\n",
       "        text-align: right;\n",
       "    }\n",
       "</style>\n",
       "<table border=\"1\" class=\"dataframe\">\n",
       "  <thead>\n",
       "    <tr style=\"text-align: right;\">\n",
       "      <th></th>\n",
       "      <th>Binomial</th>\n",
       "      <th>order</th>\n",
       "      <th>family</th>\n",
       "      <th>genus</th>\n",
       "      <th>species</th>\n",
       "      <th>Sample_size.brain</th>\n",
       "      <th>Sample_size.body</th>\n",
       "      <th>Sex</th>\n",
       "      <th>Mean_brain_mass_g</th>\n",
       "      <th>Mean_body_mass_g</th>\n",
       "      <th>BrainReference1</th>\n",
       "      <th>BrainReference2</th>\n",
       "      <th>Brain.resid</th>\n",
       "      <th>T_resid</th>\n",
       "    </tr>\n",
       "  </thead>\n",
       "  <tbody>\n",
       "    <tr>\n",
       "      <th>0</th>\n",
       "      <td>Chrysochloris_stuhlmanni</td>\n",
       "      <td>Afrosoricida</td>\n",
       "      <td>Chrysochloridae</td>\n",
       "      <td>Chrysochloris</td>\n",
       "      <td>stuhlmanni</td>\n",
       "      <td>&gt;2,&lt;12</td>\n",
       "      <td>NaN</td>\n",
       "      <td>Both</td>\n",
       "      <td>1.06</td>\n",
       "      <td>50.05</td>\n",
       "      <td>Boddy2012</td>\n",
       "      <td>Stephanetal.1981; Mace.etal.1981</td>\n",
       "      <td>0.010717</td>\n",
       "      <td>0.172364</td>\n",
       "    </tr>\n",
       "    <tr>\n",
       "      <th>1</th>\n",
       "      <td>Microgale_cowani</td>\n",
       "      <td>Afrosoricida</td>\n",
       "      <td>Tenrecidae</td>\n",
       "      <td>Microgale</td>\n",
       "      <td>cowani</td>\n",
       "      <td>1</td>\n",
       "      <td>NaN</td>\n",
       "      <td>NaN</td>\n",
       "      <td>0.42</td>\n",
       "      <td>15.20</td>\n",
       "      <td>Boddy2012</td>\n",
       "      <td>Stephanetal.1981</td>\n",
       "      <td>-0.003165</td>\n",
       "      <td>0.041996</td>\n",
       "    </tr>\n",
       "    <tr>\n",
       "      <th>2</th>\n",
       "      <td>Microgale_dobsoni</td>\n",
       "      <td>Afrosoricida</td>\n",
       "      <td>Tenrecidae</td>\n",
       "      <td>Microgale</td>\n",
       "      <td>dobsoni</td>\n",
       "      <td>1</td>\n",
       "      <td>NaN</td>\n",
       "      <td>NaN</td>\n",
       "      <td>0.56</td>\n",
       "      <td>32.60</td>\n",
       "      <td>Boddy2012</td>\n",
       "      <td>Stephanetal.1981</td>\n",
       "      <td>-0.126759</td>\n",
       "      <td>-0.007017</td>\n",
       "    </tr>\n",
       "    <tr>\n",
       "      <th>3</th>\n",
       "      <td>Oryzorictes_hova</td>\n",
       "      <td>Afrosoricida</td>\n",
       "      <td>Tenrecidae</td>\n",
       "      <td>Oryzorictes</td>\n",
       "      <td>hova</td>\n",
       "      <td>1</td>\n",
       "      <td>NaN</td>\n",
       "      <td>NaN</td>\n",
       "      <td>0.58</td>\n",
       "      <td>44.20</td>\n",
       "      <td>Boddy2012</td>\n",
       "      <td>Stephanetal.1981</td>\n",
       "      <td>-0.210674</td>\n",
       "      <td>-0.061177</td>\n",
       "    </tr>\n",
       "    <tr>\n",
       "      <th>4</th>\n",
       "      <td>Echinops_telfairi</td>\n",
       "      <td>Afrosoricida</td>\n",
       "      <td>Tenrecidae</td>\n",
       "      <td>Echinops</td>\n",
       "      <td>telfairi</td>\n",
       "      <td>2</td>\n",
       "      <td>NaN</td>\n",
       "      <td>NaN</td>\n",
       "      <td>0.62</td>\n",
       "      <td>87.50</td>\n",
       "      <td>Boddy2012</td>\n",
       "      <td>Stephanetal.1981</td>\n",
       "      <td>-0.404152</td>\n",
       "      <td>-0.187903</td>\n",
       "    </tr>\n",
       "  </tbody>\n",
       "</table>\n",
       "</div>"
      ],
      "text/plain": [
       "                   Binomial         order           family          genus  \\\n",
       "0  Chrysochloris_stuhlmanni  Afrosoricida  Chrysochloridae  Chrysochloris   \n",
       "1          Microgale_cowani  Afrosoricida       Tenrecidae      Microgale   \n",
       "2         Microgale_dobsoni  Afrosoricida       Tenrecidae      Microgale   \n",
       "3          Oryzorictes_hova  Afrosoricida       Tenrecidae    Oryzorictes   \n",
       "4         Echinops_telfairi  Afrosoricida       Tenrecidae       Echinops   \n",
       "\n",
       "      species Sample_size.brain Sample_size.body   Sex  Mean_brain_mass_g  \\\n",
       "0  stuhlmanni            >2,<12              NaN  Both               1.06   \n",
       "1      cowani                 1              NaN   NaN               0.42   \n",
       "2     dobsoni                 1              NaN   NaN               0.56   \n",
       "3        hova                 1              NaN   NaN               0.58   \n",
       "4    telfairi                 2              NaN   NaN               0.62   \n",
       "\n",
       "   Mean_body_mass_g BrainReference1                   BrainReference2  \\\n",
       "0             50.05       Boddy2012  Stephanetal.1981; Mace.etal.1981   \n",
       "1             15.20       Boddy2012                  Stephanetal.1981   \n",
       "2             32.60       Boddy2012                  Stephanetal.1981   \n",
       "3             44.20       Boddy2012                  Stephanetal.1981   \n",
       "4             87.50       Boddy2012                  Stephanetal.1981   \n",
       "\n",
       "   Brain.resid   T_resid  \n",
       "0     0.010717  0.172364  \n",
       "1    -0.003165  0.041996  \n",
       "2    -0.126759 -0.007017  \n",
       "3    -0.210674 -0.061177  \n",
       "4    -0.404152 -0.187903  "
      ]
     },
     "execution_count": 5,
     "metadata": {},
     "output_type": "execute_result"
    }
   ],
   "source": [
    "dataset.head()"
   ]
  },
  {
   "cell_type": "code",
   "execution_count": 6,
   "id": "5e32d19b",
   "metadata": {},
   "outputs": [
    {
     "data": {
      "text/plain": [
       "(1552, 14)"
      ]
     },
     "execution_count": 6,
     "metadata": {},
     "output_type": "execute_result"
    }
   ],
   "source": [
    "dataset.shape"
   ]
  },
  {
   "cell_type": "code",
   "execution_count": 7,
   "id": "5026ceca",
   "metadata": {},
   "outputs": [
    {
     "name": "stdout",
     "output_type": "stream",
     "text": [
      "<class 'pandas.core.frame.DataFrame'>\n",
      "RangeIndex: 1552 entries, 0 to 1551\n",
      "Data columns (total 14 columns):\n",
      " #   Column             Non-Null Count  Dtype  \n",
      "---  ------             --------------  -----  \n",
      " 0   Binomial           1552 non-null   object \n",
      " 1   order              1552 non-null   object \n",
      " 2   family             1552 non-null   object \n",
      " 3   genus              1552 non-null   object \n",
      " 4   species            1552 non-null   object \n",
      " 5   Sample_size.brain  1010 non-null   object \n",
      " 6   Sample_size.body   217 non-null    object \n",
      " 7   Sex                808 non-null    object \n",
      " 8   Mean_brain_mass_g  1552 non-null   float64\n",
      " 9   Mean_body_mass_g   1552 non-null   float64\n",
      " 10  BrainReference1    1552 non-null   object \n",
      " 11  BrainReference2    586 non-null    object \n",
      " 12  Brain.resid        1552 non-null   float64\n",
      " 13  T_resid            1504 non-null   float64\n",
      "dtypes: float64(4), object(10)\n",
      "memory usage: 169.9+ KB\n"
     ]
    }
   ],
   "source": [
    "dataset.info()"
   ]
  },
  {
   "cell_type": "code",
   "execution_count": 8,
   "id": "1989050d",
   "metadata": {},
   "outputs": [
    {
     "data": {
      "text/plain": [
       "Binomial             False\n",
       "order                False\n",
       "family               False\n",
       "genus                False\n",
       "species              False\n",
       "Sample_size.brain     True\n",
       "Sample_size.body      True\n",
       "Sex                   True\n",
       "Mean_brain_mass_g    False\n",
       "Mean_body_mass_g     False\n",
       "BrainReference1      False\n",
       "BrainReference2       True\n",
       "Brain.resid          False\n",
       "T_resid               True\n",
       "dtype: bool"
      ]
     },
     "execution_count": 8,
     "metadata": {},
     "output_type": "execute_result"
    }
   ],
   "source": [
    "dataset.isnull().any()"
   ]
  },
  {
   "cell_type": "code",
   "execution_count": 9,
   "id": "462a2bec",
   "metadata": {},
   "outputs": [
    {
     "data": {
      "text/plain": [
       "Binomial             1552\n",
       "order                  28\n",
       "family                136\n",
       "genus                 694\n",
       "species              1259\n",
       "Sample_size.brain      81\n",
       "Sample_size.body       51\n",
       "Sex                     6\n",
       "Mean_brain_mass_g    1226\n",
       "Mean_body_mass_g     1269\n",
       "BrainReference1        30\n",
       "BrainReference2       113\n",
       "Brain.resid          1548\n",
       "T_resid              1502\n",
       "dtype: int64"
      ]
     },
     "execution_count": 9,
     "metadata": {},
     "output_type": "execute_result"
    }
   ],
   "source": [
    "dataset.nunique()\n",
    "\n",
    "# dataset.family.unique()"
   ]
  },
  {
   "cell_type": "code",
   "execution_count": 33,
   "id": "ed07f85b",
   "metadata": {
    "scrolled": false
   },
   "outputs": [
    {
     "data": {
      "text/plain": [
       "(      Mean_body_mass_g  Mean_brain_mass_g\n",
       " 944             764.00          11.495758\n",
       " 1099            476.00           8.900000\n",
       " 1030           3430.00         108.960000\n",
       " 1079            429.00           7.200000\n",
       " 1067           6611.04          59.083333,\n",
       "       Mean_body_mass_g  Mean_brain_mass_g\n",
       " 1146            6695.0               80.3\n",
       " 1149           11600.0               84.6\n",
       " 1152           10130.0               88.3\n",
       " 1156            8030.0               96.8\n",
       " 1160            8840.0              119.4)"
      ]
     },
     "execution_count": 33,
     "metadata": {},
     "output_type": "execute_result"
    }
   ],
   "source": [
    "primates = dataset.loc[dataset[\"order\"] == \"Primates\"]\n",
    "data = primates[[\"Mean_body_mass_g\", \"Mean_brain_mass_g\"]]\n",
    "X = data.sample(frac=0.8, random_state=0)\n",
    "Y = data.drop(X.index)\n",
    "X.tail(), Y.tail()"
   ]
  },
  {
   "cell_type": "code",
   "execution_count": 46,
   "id": "ff29593d",
   "metadata": {},
   "outputs": [
    {
     "data": {
      "text/plain": [
       "['Mean_body_mass_g', 'Mean_brain_mass_g']"
      ]
     },
     "execution_count": 46,
     "metadata": {},
     "output_type": "execute_result"
    }
   ],
   "source": [
    "X.columns.tolist()"
   ]
  },
  {
   "cell_type": "code",
   "execution_count": 47,
   "id": "42466001",
   "metadata": {
    "scrolled": false
   },
   "outputs": [
    {
     "data": {
      "text/plain": [
       "<seaborn.axisgrid.PairGrid at 0x7f9d9a734910>"
      ]
     },
     "execution_count": 47,
     "metadata": {},
     "output_type": "execute_result"
    },
    {
     "data": {
      "image/png": "[encoded data removed]",
      "text/plain": [
       "<Figure size 360x360 with 6 Axes>"
      ]
     },
     "metadata": {
      "needs_background": "light"
     },
     "output_type": "display_data"
    }
   ],
   "source": [
    "sns.pairplot(X[X.columns.tolist()])"
   ]
  },
  {
   "cell_type": "code",
   "execution_count": 63,
   "id": "96d0a92c",
   "metadata": {},
   "outputs": [
    {
     "data": {
      "text/plain": [
       "(8, 14)"
      ]
     },
     "execution_count": 63,
     "metadata": {},
     "output_type": "execute_result"
    }
   ],
   "source": [
    "primates.loc[primates[\"Mean_brain_mass_g\"] < 1300].loc[primates[\"Mean_brain_mass_g\"] > 160].shape"
   ]
  }
 ],
 "metadata": {
  "kernelspec": {
   "display_name": "Python 3",
   "language": "python",
   "name": "python3"
  },
  "language_info": {
   "codemirror_mode": {
    "name": "ipython",
    "version": 3
   },
   "file_extension": ".py",
   "mimetype": "text/x-python",
   "name": "python",
   "nbconvert_exporter": "python",
   "pygments_lexer": "ipython3",
   "version": "3.8.8"
  }
 },
 "nbformat": 4,
 "nbformat_minor": 5
}
