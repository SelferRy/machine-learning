{
 "cells": [
  {
   "cell_type": "code",
   "execution_count": 1,
   "id": "29620eda",
   "metadata": {},
   "outputs": [],
   "source": [
    "import numpy as np\n",
    "import torch\n",
    "from torch.autograd import Variable\n",
    "import matplotlib.pyplot as plt\n",
    "import pandas as pd\n",
    "from sklearn.model_selection import train_test_split"
   ]
  },
  {
   "cell_type": "code",
   "execution_count": 2,
   "id": "c5d297ab",
   "metadata": {},
   "outputs": [
    {
     "data": {
      "image/png": "[encoded data removed]",
      "text/plain": [
       "<Figure size 432x288 with 1 Axes>"
      ]
     },
     "metadata": {
      "needs_background": "light"
     },
     "output_type": "display_data"
    }
   ],
   "source": [
    "data = pd.read_csv(\"../BrainSize/homo_sapiens/headbrain.csv\")\n",
    "data.head()\n",
    "\n",
    "# Visualize data\n",
    "head = \"Head Size(cm^3)\"\n",
    "brain = \"Brain Weight(grams)\"\n",
    "plt.scatter(data[head], data[brain])\n",
    "plt.xlabel(head)\n",
    "plt.ylabel(brain)\n",
    "plt.title(\"Head Size VS Brain Weight\")\n",
    "plt.show()"
   ]
  },
  {
   "cell_type": "code",
   "execution_count": 3,
   "id": "cb20385c",
   "metadata": {},
   "outputs": [],
   "source": [
    "# Train / test splitting dataset\n",
    "train, test = train_test_split(data,  test_size = 0.2)\n",
    "\n",
    "# Converting training data into tensors for Pytorch\n",
    "X_train = torch.Tensor([[x] for x in list(train[head])])\n",
    "y_train = torch.torch.FloatTensor([[x] for x in list(train[brain])])\n",
    "\n",
    "# Converting test data into tensors for Pytorch\n",
    "X_test = torch.Tensor([[x] for x in list(test[head])])\n",
    "y_test = torch.torch.FloatTensor([[x] for x in list(test[brain])])\n",
    "\n",
    "# # create dummy data for training\n",
    "# x_values = [i for i in range(11)]\n",
    "# x_train = np.array(x_values, dtype=np.float32)\n",
    "# x_train = x_train.reshape(-1, 1)\n",
    "\n",
    "# y_values = [2*i + 1 for i in x_values]\n",
    "# y_train = np.array(y_values, dtype=np.float32)\n",
    "# y_train = y_train.reshape(-1, 1)"
   ]
  },
  {
   "cell_type": "code",
   "execution_count": 4,
   "id": "ed9f43db",
   "metadata": {},
   "outputs": [],
   "source": [
    "class linearRegression(torch.nn.Module):\n",
    "    def __init__(self, inputSize, outputSize):\n",
    "        super(linearRegression, self).__init__()\n",
    "        self.linear = torch.nn.Linear(inputSize, outputSize)\n",
    "\n",
    "    def forward(self, x):\n",
    "        out = self.linear(x)\n",
    "        return out"
   ]
  },
  {
   "cell_type": "code",
   "execution_count": 5,
   "id": "a611ced1",
   "metadata": {},
   "outputs": [],
   "source": [
    "inputDim = 1        # takes variable 'x' \n",
    "outputDim = 1       # takes variable 'y'\n",
    "learningRate = 0.1  # / 10**20\n",
    "epochs = 100\n",
    "\n",
    "model = linearRegression(inputDim, outputDim)"
   ]
  },
  {
   "cell_type": "code",
   "execution_count": 6,
   "id": "fd27aa4e",
   "metadata": {},
   "outputs": [],
   "source": [
    "criterion = torch.nn.MSELoss() \n",
    "optimizer = torch.optim.SGD(model.parameters(), lr=learningRate)"
   ]
  },
  {
   "cell_type": "code",
   "execution_count": 7,
   "id": "b1cab17e",
   "metadata": {},
   "outputs": [
    {
     "name": "stdout",
     "output_type": "stream",
     "text": [
      "epoch 90, loss 1150989.0\n",
      "epoch 91, loss 1146409.375\n",
      "epoch 92, loss 1141848.25\n",
      "epoch 93, loss 1137305.625\n",
      "epoch 94, loss 1132780.5\n",
      "epoch 95, loss 1128274.0\n",
      "epoch 96, loss 1123785.25\n",
      "epoch 97, loss 1119314.75\n",
      "epoch 98, loss 1114861.5\n",
      "epoch 99, loss 1110426.625\n"
     ]
    }
   ],
   "source": [
    "epochs_cache = []\n",
    "losses_cache = []\n",
    "x_norm = (X_train - X_train.mean()) / X_train.std()\n",
    "\n",
    "for epoch in range(epochs):\n",
    "    # Converting inputs and labels to Variable\n",
    "    inputs = Variable(x_norm)\n",
    "    labels = Variable(x_norm)\n",
    "\n",
    "    # Clear gradient buffers because we don't want any gradient from previous epoch to carry forward, dont want to cummulate gradients\n",
    "    optimizer.zero_grad()\n",
    "\n",
    "    # get output from the model, given the inputs\n",
    "    outputs = model(x_norm)  # inputs\n",
    "#     import pdb; pdb.set_trace();\n",
    "    # get loss for the predicted output\n",
    "    loss = criterion(outputs, y_train)  # labels\n",
    "#     print(loss)\n",
    "    # get gradients w.r.t to parameters\n",
    "    loss.backward()\n",
    "    \n",
    "    # update parameters\n",
    "    optimizer.step()\n",
    "    \n",
    "    epochs_cache.append(epoch)\n",
    "    losses_cache.append(loss)\n",
    "\n",
    "for epoch, loss in zip(epochs_cache[-10:], losses_cache[-10:]):\n",
    "    print('epoch {}, loss {}'.format(epoch, loss))\n",
    "\n",
    "# for epoch, loss in zip(epochs_cache[:10], losses_cache[:10]):\n",
    "#     print('epoch {}, loss {}'.format(epoch, loss))"
   ]
  },
  {
   "cell_type": "code",
   "execution_count": 8,
   "id": "25d2bcd4",
   "metadata": {},
   "outputs": [
    {
     "name": "stdout",
     "output_type": "stream",
     "text": [
      "[[59639.027]\n",
      " [75101.29 ]\n",
      " [57811.67 ]\n",
      " [72518.39 ]\n",
      " [56704.715]\n",
      " [71323.58 ]\n",
      " [62995.043]\n",
      " [55123.348]\n",
      " [59814.74 ]\n",
      " [55685.61 ]\n",
      " [65946.93 ]\n",
      " [61712.38 ]\n",
      " [55949.17 ]\n",
      " [60008.016]\n",
      " [83640.67 ]\n",
      " [59814.74 ]\n",
      " [60921.695]\n",
      " [63381.598]\n",
      " [55843.746]\n",
      " [62573.344]\n",
      " [57635.965]\n",
      " [61132.543]\n",
      " [52944.574]\n",
      " [73344.22 ]\n",
      " [67932.42 ]\n",
      " [68600.12 ]\n",
      " [68336.555]\n",
      " [61642.094]\n",
      " [73590.2  ]\n",
      " [70726.17 ]\n",
      " [68758.25 ]\n",
      " [71446.58 ]\n",
      " [60201.293]\n",
      " [76050.11 ]\n",
      " [73625.35 ]\n",
      " [64224.992]\n",
      " [71147.875]\n",
      " [74029.48 ]\n",
      " [59305.184]\n",
      " [70901.88 ]\n",
      " [58988.91 ]\n",
      " [65419.805]\n",
      " [62977.473]\n",
      " [57934.668]\n",
      " [66632.19 ]\n",
      " [65050.82 ]\n",
      " [59480.89 ]\n",
      " [51837.617]\n",
      " [72325.11 ]\n",
      " [63293.746]\n",
      " [64189.85 ]\n",
      " [68371.695]\n",
      " [59129.477]\n",
      " [65911.79 ]\n",
      " [58813.203]\n",
      " [59164.617]\n",
      " [70146.336]\n",
      " [59849.88 ]\n",
      " [54771.934]\n",
      " [77965.32 ]\n",
      " [75259.43 ]\n",
      " [68582.55 ]\n",
      " [62801.76 ]\n",
      " [65665.8  ]\n",
      " [57671.105]\n",
      " [71516.86 ]\n",
      " [62292.21 ]\n",
      " [74960.73 ]\n",
      " [63803.297]\n",
      " [70427.47 ]\n",
      " [64435.844]\n",
      " [64980.535]\n",
      " [54385.375]\n",
      " [66772.76 ]\n",
      " [63241.03 ]\n",
      " [59779.594]\n",
      " [66843.04 ]\n",
      " [69338.086]\n",
      " [61817.8  ]\n",
      " [62257.07 ]\n",
      " [64312.848]\n",
      " [60868.98 ]\n",
      " [78070.75 ]\n",
      " [58619.926]\n",
      " [57653.535]\n",
      " [67879.71 ]\n",
      " [70392.33 ]\n",
      " [61782.66 ]\n",
      " [55843.746]\n",
      " [66597.05 ]\n",
      " [79511.55 ]\n",
      " [65525.23 ]\n",
      " [65244.098]\n",
      " [64207.42 ]\n",
      " [71411.43 ]\n",
      " [61606.953]\n",
      " [64892.684]\n",
      " [58075.23 ]\n",
      " [54192.098]\n",
      " [58532.07 ]\n",
      " [57302.12 ]\n",
      " [59234.902]\n",
      " [48956.016]\n",
      " [67053.89 ]\n",
      " [50554.953]\n",
      " [54156.957]\n",
      " [64330.418]\n",
      " [68810.96 ]\n",
      " [60640.562]\n",
      " [71112.734]\n",
      " [55931.6  ]\n",
      " [55685.61 ]\n",
      " [59990.445]\n",
      " [50431.957]\n",
      " [63733.01 ]\n",
      " [69373.23 ]\n",
      " [67247.164]\n",
      " [56950.703]\n",
      " [68740.68 ]\n",
      " [68108.13 ]\n",
      " [71077.586]\n",
      " [58725.35 ]\n",
      " [67897.28 ]\n",
      " [73432.07 ]\n",
      " [74170.04 ]\n",
      " [57846.812]\n",
      " [62977.473]\n",
      " [62713.91 ]\n",
      " [48024.766]\n",
      " [60236.434]\n",
      " [62749.05 ]\n",
      " [70655.89 ]\n",
      " [58250.94 ]\n",
      " [67071.46 ]\n",
      " [56124.88 ]\n",
      " [67985.14 ]\n",
      " [58373.934]\n",
      " [77947.75 ]\n",
      " [71323.58 ]\n",
      " [69285.375]\n",
      " [65367.094]\n",
      " [62889.617]\n",
      " [64558.84 ]\n",
      " [68160.84 ]\n",
      " [67563.44 ]\n",
      " [62204.36 ]\n",
      " [65296.81 ]\n",
      " [57319.69 ]\n",
      " [62309.78 ]\n",
      " [68020.28 ]\n",
      " [69408.37 ]\n",
      " [63223.46 ]\n",
      " [66087.5  ]\n",
      " [68336.555]\n",
      " [61343.39 ]\n",
      " [58532.07 ]\n",
      " [63082.895]\n",
      " [65015.676]\n",
      " [61554.242]\n",
      " [56511.438]\n",
      " [69039.38 ]\n",
      " [56019.453]\n",
      " [63170.75 ]\n",
      " [63135.61 ]\n",
      " [66878.18 ]\n",
      " [64664.26 ]\n",
      " [64699.402]\n",
      " [67598.58 ]\n",
      " [58163.086]\n",
      " [60078.297]\n",
      " [65314.38 ]\n",
      " [63645.16 ]\n",
      " [59270.043]\n",
      " [59955.3  ]\n",
      " [71622.28 ]\n",
      " [59867.45 ]\n",
      " [57266.977]\n",
      " [60658.133]\n",
      " [56774.996]\n",
      " [59674.17 ]\n",
      " [55492.332]\n",
      " [52751.297]\n",
      " [67071.46 ]\n",
      " [55720.754]\n",
      " [70603.18 ]\n",
      " [61835.37 ]\n",
      " [53963.676]\n",
      " [73291.5  ]\n",
      " [60991.977]]\n"
     ]
    },
    {
     "data": {
      "image/png": "[encoded data removed]",
      "text/plain": [
       "<Figure size 432x288 with 1 Axes>"
      ]
     },
     "metadata": {
      "needs_background": "light"
     },
     "output_type": "display_data"
    }
   ],
   "source": [
    "with torch.no_grad(): # we don't need gradients in the testing phase\n",
    "    predicted = model(Variable(X_train)).data.numpy()\n",
    "    print(predicted)\n",
    "\n",
    "plt.clf()\n",
    "plt.plot(X_train, y_train, 'go', label='True data', alpha=0.5)\n",
    "plt.plot(X_train, predicted, '--', label='Predictions', alpha=0.5)\n",
    "plt.legend(loc='best')\n",
    "plt.show()"
   ]
  },
  {
   "cell_type": "code",
   "execution_count": 9,
   "id": "4fa5f87e",
   "metadata": {
    "scrolled": true
   },
   "outputs": [
    {
     "data": {
      "image/png": "[encoded data removed]",
      "text/plain": [
       "<Figure size 432x288 with 1 Axes>"
      ]
     },
     "metadata": {
      "needs_background": "light"
     },
     "output_type": "display_data"
    }
   ],
   "source": [
    "plt.plot(epochs_cache, losses_cache)\n",
    "plt.show()\n",
    "plt.close()"
   ]
  }
 ],
 "metadata": {
  "kernelspec": {
   "display_name": "ml",
   "language": "python",
   "name": "ml"
  },
  "language_info": {
   "codemirror_mode": {
    "name": "ipython",
    "version": 3
   },
   "file_extension": ".py",
   "mimetype": "text/x-python",
   "name": "python",
   "nbconvert_exporter": "python",
   "pygments_lexer": "ipython3",
   "version": "3.8.8"
  }
 },
 "nbformat": 4,
 "nbformat_minor": 5
}
