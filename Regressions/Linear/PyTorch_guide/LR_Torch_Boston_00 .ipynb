{
 "cells": [
  {
   "cell_type": "code",
   "execution_count": 1,
   "metadata": {
    "scrolled": true
   },
   "outputs": [],
   "source": [
    "import torch\n",
    "from torch.autograd import Variable\n",
    "from torch.nn import functional as F\n",
    "import numpy as np\n",
    "from sklearn.datasets import load_boston\n",
    "from sklearn.model_selection import train_test_split"
   ]
  },
  {
   "cell_type": "code",
   "execution_count": 2,
   "metadata": {},
   "outputs": [],
   "source": [
    "class LinearRegression(torch.nn.Module):\n",
    "    \n",
    "    def __init__(self, input_size, output_size):\n",
    "        super().__init__()\n",
    "        self.linear = torch.nn.Linear(input_size, output_size)\n",
    "        \n",
    "    def forward(self, x):\n",
    "        y_pred = self.linear(x)\n",
    "        return y_pred"
   ]
  },
  {
   "cell_type": "code",
   "execution_count": 4,
   "metadata": {},
   "outputs": [],
   "source": [
    "data = load_boston()\n",
    "X = data.data\n",
    "y = data.target\n",
    "\n",
    "X_train, X_test, y_train, y_test = train_test_split(X, y, test_size=0.3, random_state=100)\n",
    "\n",
    "X_train, X_test = list(map(torch.FloatTensor, [X_train, X_test]))\n",
    "y_train, y_test = list(map(lambda x: torch.FloatTensor(x).view(-1, 1), [y_train, y_test]))"
   ]
  },
  {
   "cell_type": "code",
   "execution_count": 6,
   "metadata": {},
   "outputs": [],
   "source": [
    "def norm(x):\n",
    "    return (x - x.mean()) / x.std()\n",
    "\n",
    "def loss(y_pred, y):\n",
    "    return ((y_pred - y)**2).sum()"
   ]
  },
  {
   "cell_type": "code",
   "execution_count": 8,
   "metadata": {},
   "outputs": [],
   "source": [
    "model = LinearRegression(X_train.shape[1], 1)\n",
    "criterion = torch.nn.MSELoss() # reduction='sum'   # F.mse_loss\n",
    "optimizer = torch.optim.SGD(model.parameters(), lr=0.001)"
   ]
  },
  {
   "cell_type": "code",
   "execution_count": 9,
   "metadata": {},
   "outputs": [
    {
     "data": {
      "text/plain": [
       "[tensor(584.6128, grad_fn=<MseLossBackward>),\n",
       " tensor(561.6299, grad_fn=<MseLossBackward>),\n",
       " tensor(539.7849, grad_fn=<MseLossBackward>),\n",
       " tensor(519.0209, grad_fn=<MseLossBackward>),\n",
       " tensor(499.2838, grad_fn=<MseLossBackward>),\n",
       " tensor(480.5222, grad_fn=<MseLossBackward>),\n",
       " tensor(462.6874, grad_fn=<MseLossBackward>),\n",
       " tensor(445.7329, grad_fn=<MseLossBackward>),\n",
       " tensor(429.6147, grad_fn=<MseLossBackward>),\n",
       " tensor(414.2909, grad_fn=<MseLossBackward>)]"
      ]
     },
     "execution_count": 9,
     "metadata": {},
     "output_type": "execute_result"
    }
   ],
   "source": [
    "x_norm = norm(X_train)\n",
    "epochs_cache = []\n",
    "losses_cache = []\n",
    "for epoch in range(20):\n",
    "\n",
    "    # Forward pass\n",
    "    y_pred = model(x_norm)\n",
    "    \n",
    "    # Compute Loss\n",
    "    current_loss = criterion(y_pred, y_train) #loss(y_pred, y_train) \n",
    "    \n",
    "    # Backward pass\n",
    "    current_loss.backward()\n",
    "    optimizer.step()\n",
    "    \n",
    "    optimizer.zero_grad()\n",
    "    \n",
    "    epochs_cache.append(epoch)\n",
    "    losses_cache.append(current_loss)\n",
    "    \n",
    "losses_cache[:10]"
   ]
  }
 ],
 "metadata": {
  "kernelspec": {
   "display_name": "Python 3",
   "language": "python",
   "name": "python3"
  },
  "language_info": {
   "codemirror_mode": {
    "name": "ipython",
    "version": 3
   },
   "file_extension": ".py",
   "mimetype": "text/x-python",
   "name": "python",
   "nbconvert_exporter": "python",
   "pygments_lexer": "ipython3",
   "version": "3.8.8"
  }
 },
 "nbformat": 4,
 "nbformat_minor": 1
}
