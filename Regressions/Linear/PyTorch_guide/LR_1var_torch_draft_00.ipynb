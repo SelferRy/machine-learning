{
 "cells": [
  {
   "cell_type": "code",
   "execution_count": 1,
   "id": "29620eda",
   "metadata": {},
   "outputs": [],
   "source": [
    "import numpy as np\n",
    "import torch\n",
    "from torch.autograd import Variable\n",
    "import matplotlib.pyplot as plt\n",
    "import pandas as pd\n",
    "from sklearn.model_selection import train_test_split"
   ]
  },
  {
   "cell_type": "code",
   "execution_count": 2,
   "id": "c5d297ab",
   "metadata": {},
   "outputs": [
    {
     "data": {
      "image/png": "[encoded data removed]",
      "text/plain": [
       "<Figure size 432x288 with 1 Axes>"
      ]
     },
     "metadata": {
      "needs_background": "light"
     },
     "output_type": "display_data"
    }
   ],
   "source": [
    "data = pd.read_csv(\"../BrainSize/homo_sapiens/headbrain.csv\")\n",
    "data.head()\n",
    "\n",
    "# Visualize data\n",
    "head = \"Head Size(cm^3)\"\n",
    "brain = \"Brain Weight(grams)\"\n",
    "plt.scatter(data[head], data[brain])\n",
    "plt.xlabel(head)\n",
    "plt.ylabel(brain)\n",
    "plt.title(\"Head Size VS Brain Weight\")\n",
    "plt.show()"
   ]
  },
  {
   "cell_type": "code",
   "execution_count": 3,
   "id": "cb20385c",
   "metadata": {},
   "outputs": [],
   "source": [
    "# Train / test splitting dataset\n",
    "train, test = train_test_split(data,  test_size = 0.2)\n",
    "\n",
    "# Converting training data into tensors for Pytorch\n",
    "X_train = torch.Tensor([[x] for x in list(train[head])])\n",
    "y_train = torch.torch.FloatTensor([[x] for x in list(train[brain])])\n",
    "\n",
    "# Converting test data into tensors for Pytorch\n",
    "X_test = torch.Tensor([[x] for x in list(test[head])])\n",
    "y_test = torch.torch.FloatTensor([[x] for x in list(test[brain])])\n",
    "\n",
    "# # create dummy data for training\n",
    "# x_values = [i for i in range(11)]\n",
    "# x_train = np.array(x_values, dtype=np.float32)\n",
    "# x_train = x_train.reshape(-1, 1)\n",
    "\n",
    "# y_values = [2*i + 1 for i in x_values]\n",
    "# y_train = np.array(y_values, dtype=np.float32)\n",
    "# y_train = y_train.reshape(-1, 1)"
   ]
  },
  {
   "cell_type": "code",
   "execution_count": 4,
   "id": "ed9f43db",
   "metadata": {},
   "outputs": [],
   "source": [
    "class linearRegression(torch.nn.Module):\n",
    "    def __init__(self, inputSize, outputSize):\n",
    "        super(linearRegression, self).__init__()\n",
    "        self.linear = torch.nn.Linear(inputSize, outputSize)\n",
    "\n",
    "    def forward(self, x):\n",
    "        out = self.linear(x)\n",
    "        return out"
   ]
  },
  {
   "cell_type": "code",
   "execution_count": 5,
   "id": "a611ced1",
   "metadata": {},
   "outputs": [],
   "source": [
    "inputDim = 1        # takes variable 'x' \n",
    "outputDim = 1       # takes variable 'y'\n",
    "learningRate = 0.1  # / 10**20\n",
    "epochs = 100\n",
    "\n",
    "model = linearRegression(inputDim, outputDim)"
   ]
  },
  {
   "cell_type": "code",
   "execution_count": 6,
   "id": "fd27aa4e",
   "metadata": {},
   "outputs": [],
   "source": [
    "criterion = torch.nn.MSELoss() \n",
    "optimizer = torch.optim.SGD(model.parameters(), lr=learningRate)"
   ]
  },
  {
   "cell_type": "code",
   "execution_count": 7,
   "id": "b1cab17e",
   "metadata": {},
   "outputs": [
    {
     "name": "stdout",
     "output_type": "stream",
     "text": [
      "epoch 90, loss 5515.26953125\n",
      "epoch 91, loss 5515.26953125\n",
      "epoch 92, loss 5515.26953125\n",
      "epoch 93, loss 5515.26953125\n",
      "epoch 94, loss 5515.26953125\n",
      "epoch 95, loss 5515.26953125\n",
      "epoch 96, loss 5515.26953125\n",
      "epoch 97, loss 5515.26953125\n",
      "epoch 98, loss 5515.26953125\n",
      "epoch 99, loss 5515.26953125\n"
     ]
    }
   ],
   "source": [
    "epochs_cache = []\n",
    "losses_cache = []\n",
    "x_norm = (X_train - X_train.mean()) / X_train.std()\n",
    "\n",
    "for epoch in range(epochs):\n",
    "    # Converting inputs and labels to Variable\n",
    "    inputs = Variable(x_norm)\n",
    "    labels = Variable(x_norm)\n",
    "\n",
    "    # Clear gradient buffers because we don't want any gradient from previous epoch to carry forward, dont want to cummulate gradients\n",
    "    optimizer.zero_grad()\n",
    "\n",
    "    # get output from the model, given the inputs\n",
    "    outputs = model(x_norm)  # inputs\n",
    "#     import pdb; pdb.set_trace();\n",
    "    # get loss for the predicted output\n",
    "    loss = criterion(outputs, y_train)  # labels\n",
    "#     print(loss)\n",
    "    # get gradients w.r.t to parameters\n",
    "    loss.backward()\n",
    "    \n",
    "    # update parameters\n",
    "    optimizer.step()\n",
    "    \n",
    "    epochs_cache.append(epoch)\n",
    "    losses_cache.append(loss)\n",
    "\n",
    "for epoch, loss in zip(epochs_cache[-10:], losses_cache[-10:]):\n",
    "    print('epoch {}, loss {}'.format(epoch, loss))\n",
    "\n",
    "# for epoch, loss in zip(epochs_cache[:10], losses_cache[:10]):\n",
    "#     print('epoch {}, loss {}'.format(epoch, loss))"
   ]
  },
  {
   "cell_type": "code",
   "execution_count": 8,
   "id": "25d2bcd4",
   "metadata": {},
   "outputs": [
    {
     "name": "stdout",
     "output_type": "stream",
     "text": [
      "[[404664.9 ]\n",
      " [362767.16]\n",
      " [324069.25]\n",
      " [384266.  ]\n",
      " [328969.  ]\n",
      " [373666.56]\n",
      " [406564.78]\n",
      " [392865.53]\n",
      " [300170.56]\n",
      " [351867.75]\n",
      " [382666.1 ]\n",
      " [345568.1 ]\n",
      " [380866.2 ]\n",
      " [391965.6 ]\n",
      " [340668.38]\n",
      " [417264.22]\n",
      " [384765.97]\n",
      " [384466.  ]\n",
      " [445462.7 ]\n",
      " [370766.75]\n",
      " [413364.44]\n",
      " [368166.88]\n",
      " [404464.9 ]\n",
      " [386865.88]\n",
      " [401865.06]\n",
      " [337268.56]\n",
      " [367466.9 ]\n",
      " [365667.  ]\n",
      " [394265.47]\n",
      " [379166.28]\n",
      " [273272.03]\n",
      " [310770.  ]\n",
      " [379166.28]\n",
      " [311669.94]\n",
      " [317769.6 ]\n",
      " [450062.44]\n",
      " [341368.3 ]\n",
      " [357167.47]\n",
      " [318369.56]\n",
      " [308370.12]\n",
      " [432063.4 ]\n",
      " [384665.97]\n",
      " [325869.16]\n",
      " [439363.03]\n",
      " [412664.47]\n",
      " [417364.22]\n",
      " [394765.44]\n",
      " [402465.03]\n",
      " [295170.84]\n",
      " [356867.5 ]\n",
      " [391265.62]\n",
      " [310270.  ]\n",
      " [334668.7 ]\n",
      " [421663.97]\n",
      " [399465.2 ]\n",
      " [422063.97]\n",
      " [315769.72]\n",
      " [350967.8 ]\n",
      " [317069.66]\n",
      " [316869.66]\n",
      " [350467.84]\n",
      " [333568.75]\n",
      " [380566.22]\n",
      " [428263.62]\n",
      " [380366.22]\n",
      " [322669.34]\n",
      " [432763.38]\n",
      " [294970.84]\n",
      " [411564.53]\n",
      " [366067.  ]\n",
      " [344868.12]\n",
      " [421264.  ]\n",
      " [301270.5 ]\n",
      " [366666.97]\n",
      " [278571.72]\n",
      " [330968.88]\n",
      " [362667.2 ]\n",
      " [351567.78]\n",
      " [370166.78]\n",
      " [394565.44]\n",
      " [406364.8 ]\n",
      " [402065.03]\n",
      " [379766.25]\n",
      " [356067.53]\n",
      " [353967.66]\n",
      " [376066.44]\n",
      " [475961.03]\n",
      " [349167.9 ]\n",
      " [337068.56]\n",
      " [397465.28]\n",
      " [401765.06]\n",
      " [353667.66]\n",
      " [341868.3 ]\n",
      " [360167.3 ]\n",
      " [390265.7 ]\n",
      " [387065.84]\n",
      " [381566.16]\n",
      " [328069.06]\n",
      " [378966.28]\n",
      " [350967.8 ]\n",
      " [349067.9 ]\n",
      " [386365.88]\n",
      " [334168.72]\n",
      " [418964.12]\n",
      " [332168.8 ]\n",
      " [340368.38]\n",
      " [331468.88]\n",
      " [391165.62]\n",
      " [327969.06]\n",
      " [318269.6 ]\n",
      " [335668.62]\n",
      " [307070.2 ]\n",
      " [351167.78]\n",
      " [307970.12]\n",
      " [336468.6 ]\n",
      " [365367.03]\n",
      " [386265.9 ]\n",
      " [340668.38]\n",
      " [371266.72]\n",
      " [390365.7 ]\n",
      " [318769.56]\n",
      " [379466.25]\n",
      " [354467.62]\n",
      " [444262.75]\n",
      " [358367.4 ]\n",
      " [321569.4 ]\n",
      " [426563.72]\n",
      " [362167.2 ]\n",
      " [406964.78]\n",
      " [340668.38]\n",
      " [337468.53]\n",
      " [324569.25]\n",
      " [358467.4 ]\n",
      " [339568.44]\n",
      " [350567.84]\n",
      " [345168.12]\n",
      " [379966.25]\n",
      " [333068.78]\n",
      " [452462.3 ]\n",
      " [357367.47]\n",
      " [417864.2 ]\n",
      " [341468.3 ]\n",
      " [342568.25]\n",
      " [367366.9 ]\n",
      " [391165.62]\n",
      " [317769.6 ]\n",
      " [326069.16]\n",
      " [381666.16]\n",
      " [375266.5 ]\n",
      " [388865.75]\n",
      " [349167.9 ]\n",
      " [427363.66]\n",
      " [341168.34]\n",
      " [443662.78]\n",
      " [347068.03]\n",
      " [444262.75]\n",
      " [443562.78]\n",
      " [341168.34]\n",
      " [403464.97]\n",
      " [333068.78]\n",
      " [319369.53]\n",
      " [316869.66]\n",
      " [336668.6 ]\n",
      " [371966.66]\n",
      " [313669.8 ]\n",
      " [345068.12]\n",
      " [367966.88]\n",
      " [329668.97]\n",
      " [388865.75]\n",
      " [389065.75]\n",
      " [418764.12]\n",
      " [359467.34]\n",
      " [340368.38]\n",
      " [326169.16]\n",
      " [404864.88]\n",
      " [362567.2 ]\n",
      " [371566.7 ]\n",
      " [357067.47]\n",
      " [358967.38]\n",
      " [407564.75]\n",
      " [367866.9 ]\n",
      " [342768.25]\n",
      " [354267.62]\n",
      " [373966.56]\n",
      " [400765.12]\n",
      " [346368.06]\n",
      " [308170.12]\n",
      " [375066.5 ]\n",
      " [339368.44]]\n"
     ]
    },
    {
     "data": {
      "image/png": "[encoded data removed]",
      "text/plain": [
       "<Figure size 432x288 with 1 Axes>"
      ]
     },
     "metadata": {
      "needs_background": "light"
     },
     "output_type": "display_data"
    }
   ],
   "source": [
    "with torch.no_grad(): # we don't need gradients in the testing phase\n",
    "    predicted = model(Variable(X_train)).data.numpy()\n",
    "    print(predicted)\n",
    "\n",
    "plt.clf()\n",
    "plt.plot(X_train, y_train, 'go', label='True data', alpha=0.5)\n",
    "plt.plot(X_train, predicted, '--', label='Predictions', alpha=0.5)\n",
    "plt.legend(loc='best')\n",
    "plt.show()"
   ]
  },
  {
   "cell_type": "code",
   "execution_count": 9,
   "id": "4fa5f87e",
   "metadata": {
    "scrolled": true
   },
   "outputs": [
    {
     "data": {
      "image/png": "[encoded data removed]",
      "text/plain": [
       "<Figure size 432x288 with 1 Axes>"
      ]
     },
     "metadata": {
      "needs_background": "light"
     },
     "output_type": "display_data"
    }
   ],
   "source": [
    "plt.plot(epochs_cache, losses_cache)\n",
    "plt.show()\n",
    "plt.close()"
   ]
  },
  {
   "cell_type": "code",
   "execution_count": null,
   "id": "67b265d0",
   "metadata": {},
   "outputs": [],
   "source": []
  }
 ],
 "metadata": {
  "kernelspec": {
   "display_name": "ml",
   "language": "python",
   "name": "ml"
  },
  "language_info": {
   "codemirror_mode": {
    "name": "ipython",
    "version": 3
   },
   "file_extension": ".py",
   "mimetype": "text/x-python",
   "name": "python",
   "nbconvert_exporter": "python",
   "pygments_lexer": "ipython3",
   "version": "3.8.8"
  }
 },
 "nbformat": 4,
 "nbformat_minor": 5
}
