{
 "cells": [
  {
   "cell_type": "code",
   "execution_count": 1,
   "metadata": {
    "pycharm": {
     "is_executing": true
    },
    "scrolled": true
   },
   "outputs": [],
   "source": [
    "import torch\n",
    "from torch.autograd import Variable\n",
    "from torch.nn import functional as F\n",
    "import numpy as np\n",
    "from sklearn.datasets import load_boston\n",
    "import matplotlib.pyplot as plt"
   ]
  },
  {
   "cell_type": "code",
   "execution_count": 2,
   "metadata": {},
   "outputs": [],
   "source": [
    "data = load_boston()\n",
    "\n",
    "inputs =  data.data\n",
    "targets = data.target\n",
    "\n",
    "inputs = torch.from_numpy(inputs).float()\n",
    "targets = torch.from_numpy(targets).float().view(-1, 1)\n",
    "\n",
    "inputs = (inputs - inputs.mean()) / inputs.std()"
   ]
  },
  {
   "cell_type": "code",
   "execution_count": 3,
   "metadata": {},
   "outputs": [
    {
     "name": "stdout",
     "output_type": "stream",
     "text": [
      "epoch : 0, loss = 115.57566833496094\n",
      "epoch : 1, loss = 98.57133483886719\n",
      "epoch : 2, loss = 89.26811981201172\n",
      "epoch : 3, loss = 83.18084716796875\n",
      "epoch : 4, loss = 79.40440368652344\n",
      "epoch : 5, loss = 76.69660949707031\n",
      "epoch : 6, loss = 75.0906753540039\n",
      "epoch : 7, loss = 73.86961364746094\n",
      "epoch : 8, loss = 72.85379028320312\n",
      "epoch : 9, loss = 72.1590576171875\n",
      "epoch : 191, loss = 56.2164306640625\n",
      "epoch : 192, loss = 56.244564056396484\n",
      "epoch : 193, loss = 56.18397903442383\n",
      "epoch : 194, loss = 56.1606330871582\n",
      "epoch : 195, loss = 56.14643478393555\n",
      "epoch : 196, loss = 56.152137756347656\n",
      "epoch : 197, loss = 56.15289306640625\n",
      "epoch : 198, loss = 56.2702522277832\n",
      "epoch : 199, loss = 56.077205657958984\n"
     ]
    },
    {
     "data": {
      "image/png": "[encoded data removed]",
      "text/plain": [
       "<Figure size 432x288 with 1 Axes>"
      ]
     },
     "metadata": {
      "needs_background": "light"
     },
     "output_type": "display_data"
    }
   ],
   "source": [
    "from torch.utils.data import TensorDataset, DataLoader\n",
    "\n",
    "# Define dataset\n",
    "train_ds = TensorDataset(inputs, targets)\n",
    "\n",
    "# Define data loader\n",
    "batch_size = 5\n",
    "train_dl = DataLoader(train_ds, batch_size, shuffle=True)\n",
    "\n",
    "# Define model\n",
    "model = torch.nn.Linear(13, 1)  # inputs.shape[1]\n",
    "\n",
    "# Define optimizer\n",
    "opt = torch.optim.SGD(model.parameters(), lr=1e-3)\n",
    "\n",
    "# Define loss function\n",
    "loss_fn = F.mse_loss\n",
    "\n",
    "cache = []\n",
    "# Define a utility function to train the model\n",
    "def fit(num_epochs, model, loss_fn, opt):\n",
    "    global train_dl\n",
    "    global cache\n",
    "    for epoch in range(num_epochs):\n",
    "        for xb, yb in train_dl:\n",
    "            # Generate predictions\n",
    "            y_pred = model(xb)\n",
    "            loss = loss_fn(y_pred, yb)\n",
    "            \n",
    "            # Perform gradient descent\n",
    "            loss.backward()\n",
    "            opt.step()\n",
    "            opt.zero_grad()\n",
    "        cache.append([epoch, loss_fn(model(inputs), targets)])\n",
    "#         print('Training loss: ', loss_fn(model(inputs), targets))\n",
    "        \n",
    "# Train the model for 100 epochs\n",
    "fit(200, model, loss_fn, opt)\n",
    "[print(f\"epoch : {epoch}, loss = {loss}\") for epoch, loss in cache if epoch < 10 or epoch > 190]\n",
    "epochs = [epoch[0] for epoch in cache]\n",
    "losses = [loss[1] for loss in cache]\n",
    "\n",
    "\n",
    "# Generate predictions\n",
    "preds = model(inputs)\n",
    "\n",
    "plt.plot(epochs, losses)\n",
    "plt.show()\n",
    "plt.close()"
   ]
  }
 ],
 "metadata": {
  "kernelspec": {
   "display_name": "Python 3",
   "language": "python",
   "name": "python3"
  },
  "language_info": {
   "codemirror_mode": {
    "name": "ipython",
    "version": 3
   },
   "file_extension": ".py",
   "mimetype": "text/x-python",
   "name": "python",
   "nbconvert_exporter": "python",
   "pygments_lexer": "ipython3",
   "version": "3.8.8"
  }
 },
 "nbformat": 4,
 "nbformat_minor": 1
}
