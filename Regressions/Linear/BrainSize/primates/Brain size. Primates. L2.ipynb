{
 "cells": [
  {
   "cell_type": "markdown",
   "id": "e9ca472e",
   "metadata": {},
   "source": [
    "Previous version is \"Brain size of Primates with LInear Regression_v01a.ipynb\""
   ]
  },
  {
   "cell_type": "code",
   "execution_count": 1,
   "id": "f96a02df",
   "metadata": {},
   "outputs": [],
   "source": [
    "import pandas as pd\n",
    "import numpy as np\n",
    "import seaborn as sns\n",
    "import matplotlib.pyplot as plt\n",
    "\n",
    "import tensorflow as tf\n",
    "from tensorflow import keras \n",
    "from tensorflow.keras import layers\n",
    "from tensorflow.keras.layers.experimental import preprocessing"
   ]
  },
  {
   "cell_type": "markdown",
   "id": "b16b262b",
   "metadata": {},
   "source": [
    "# Data analys and plot"
   ]
  },
  {
   "cell_type": "code",
   "execution_count": 2,
   "id": "b23c52ac",
   "metadata": {},
   "outputs": [],
   "source": [
    "dataset = pd.read_csv(\"BrainAllometry_Supplement_Data.csv\")"
   ]
  },
  {
   "cell_type": "code",
   "execution_count": 3,
   "id": "b0e36813",
   "metadata": {},
   "outputs": [
    {
     "name": "stdout",
     "output_type": "stream",
     "text": [
      "1552 14\n"
     ]
    },
    {
     "data": {
      "text/html": [
       "<div>\n",
       "<style scoped>\n",
       "    .dataframe tbody tr th:only-of-type {\n",
       "        vertical-align: middle;\n",
       "    }\n",
       "\n",
       "    .dataframe tbody tr th {\n",
       "        vertical-align: top;\n",
       "    }\n",
       "\n",
       "    .dataframe thead th {\n",
       "        text-align: right;\n",
       "    }\n",
       "</style>\n",
       "<table border=\"1\" class=\"dataframe\">\n",
       "  <thead>\n",
       "    <tr style=\"text-align: right;\">\n",
       "      <th></th>\n",
       "      <th>Binomial</th>\n",
       "      <th>order</th>\n",
       "      <th>family</th>\n",
       "      <th>genus</th>\n",
       "      <th>species</th>\n",
       "      <th>Sample_size.brain</th>\n",
       "      <th>Sample_size.body</th>\n",
       "      <th>Sex</th>\n",
       "      <th>Mean_brain_mass_g</th>\n",
       "      <th>Mean_body_mass_g</th>\n",
       "      <th>BrainReference1</th>\n",
       "      <th>BrainReference2</th>\n",
       "      <th>Brain.resid</th>\n",
       "      <th>T_resid</th>\n",
       "    </tr>\n",
       "  </thead>\n",
       "  <tbody>\n",
       "    <tr>\n",
       "      <th>0</th>\n",
       "      <td>Chrysochloris_stuhlmanni</td>\n",
       "      <td>Afrosoricida</td>\n",
       "      <td>Chrysochloridae</td>\n",
       "      <td>Chrysochloris</td>\n",
       "      <td>stuhlmanni</td>\n",
       "      <td>&gt;2,&lt;12</td>\n",
       "      <td>NaN</td>\n",
       "      <td>Both</td>\n",
       "      <td>1.06</td>\n",
       "      <td>50.05</td>\n",
       "      <td>Boddy2012</td>\n",
       "      <td>Stephanetal.1981; Mace.etal.1981</td>\n",
       "      <td>0.010717</td>\n",
       "      <td>0.172364</td>\n",
       "    </tr>\n",
       "    <tr>\n",
       "      <th>1</th>\n",
       "      <td>Microgale_cowani</td>\n",
       "      <td>Afrosoricida</td>\n",
       "      <td>Tenrecidae</td>\n",
       "      <td>Microgale</td>\n",
       "      <td>cowani</td>\n",
       "      <td>1</td>\n",
       "      <td>NaN</td>\n",
       "      <td>NaN</td>\n",
       "      <td>0.42</td>\n",
       "      <td>15.20</td>\n",
       "      <td>Boddy2012</td>\n",
       "      <td>Stephanetal.1981</td>\n",
       "      <td>-0.003165</td>\n",
       "      <td>0.041996</td>\n",
       "    </tr>\n",
       "    <tr>\n",
       "      <th>2</th>\n",
       "      <td>Microgale_dobsoni</td>\n",
       "      <td>Afrosoricida</td>\n",
       "      <td>Tenrecidae</td>\n",
       "      <td>Microgale</td>\n",
       "      <td>dobsoni</td>\n",
       "      <td>1</td>\n",
       "      <td>NaN</td>\n",
       "      <td>NaN</td>\n",
       "      <td>0.56</td>\n",
       "      <td>32.60</td>\n",
       "      <td>Boddy2012</td>\n",
       "      <td>Stephanetal.1981</td>\n",
       "      <td>-0.126759</td>\n",
       "      <td>-0.007017</td>\n",
       "    </tr>\n",
       "    <tr>\n",
       "      <th>3</th>\n",
       "      <td>Oryzorictes_hova</td>\n",
       "      <td>Afrosoricida</td>\n",
       "      <td>Tenrecidae</td>\n",
       "      <td>Oryzorictes</td>\n",
       "      <td>hova</td>\n",
       "      <td>1</td>\n",
       "      <td>NaN</td>\n",
       "      <td>NaN</td>\n",
       "      <td>0.58</td>\n",
       "      <td>44.20</td>\n",
       "      <td>Boddy2012</td>\n",
       "      <td>Stephanetal.1981</td>\n",
       "      <td>-0.210674</td>\n",
       "      <td>-0.061177</td>\n",
       "    </tr>\n",
       "    <tr>\n",
       "      <th>4</th>\n",
       "      <td>Echinops_telfairi</td>\n",
       "      <td>Afrosoricida</td>\n",
       "      <td>Tenrecidae</td>\n",
       "      <td>Echinops</td>\n",
       "      <td>telfairi</td>\n",
       "      <td>2</td>\n",
       "      <td>NaN</td>\n",
       "      <td>NaN</td>\n",
       "      <td>0.62</td>\n",
       "      <td>87.50</td>\n",
       "      <td>Boddy2012</td>\n",
       "      <td>Stephanetal.1981</td>\n",
       "      <td>-0.404152</td>\n",
       "      <td>-0.187903</td>\n",
       "    </tr>\n",
       "  </tbody>\n",
       "</table>\n",
       "</div>"
      ],
      "text/plain": [
       "                   Binomial         order           family          genus  \\\n",
       "0  Chrysochloris_stuhlmanni  Afrosoricida  Chrysochloridae  Chrysochloris   \n",
       "1          Microgale_cowani  Afrosoricida       Tenrecidae      Microgale   \n",
       "2         Microgale_dobsoni  Afrosoricida       Tenrecidae      Microgale   \n",
       "3          Oryzorictes_hova  Afrosoricida       Tenrecidae    Oryzorictes   \n",
       "4         Echinops_telfairi  Afrosoricida       Tenrecidae       Echinops   \n",
       "\n",
       "      species Sample_size.brain Sample_size.body   Sex  Mean_brain_mass_g  \\\n",
       "0  stuhlmanni            >2,<12              NaN  Both               1.06   \n",
       "1      cowani                 1              NaN   NaN               0.42   \n",
       "2     dobsoni                 1              NaN   NaN               0.56   \n",
       "3        hova                 1              NaN   NaN               0.58   \n",
       "4    telfairi                 2              NaN   NaN               0.62   \n",
       "\n",
       "   Mean_body_mass_g BrainReference1                   BrainReference2  \\\n",
       "0             50.05       Boddy2012  Stephanetal.1981; Mace.etal.1981   \n",
       "1             15.20       Boddy2012                  Stephanetal.1981   \n",
       "2             32.60       Boddy2012                  Stephanetal.1981   \n",
       "3             44.20       Boddy2012                  Stephanetal.1981   \n",
       "4             87.50       Boddy2012                  Stephanetal.1981   \n",
       "\n",
       "   Brain.resid   T_resid  \n",
       "0     0.010717  0.172364  \n",
       "1    -0.003165  0.041996  \n",
       "2    -0.126759 -0.007017  \n",
       "3    -0.210674 -0.061177  \n",
       "4    -0.404152 -0.187903  "
      ]
     },
     "execution_count": 3,
     "metadata": {},
     "output_type": "execute_result"
    }
   ],
   "source": [
    "print(*dataset.shape)\n",
    "dataset.head()"
   ]
  },
  {
   "cell_type": "code",
   "execution_count": 4,
   "id": "9e9c9dc3",
   "metadata": {},
   "outputs": [
    {
     "name": "stdout",
     "output_type": "stream",
     "text": [
      "<class 'pandas.core.frame.DataFrame'>\n",
      "RangeIndex: 1552 entries, 0 to 1551\n",
      "Data columns (total 14 columns):\n",
      " #   Column             Non-Null Count  Dtype  \n",
      "---  ------             --------------  -----  \n",
      " 0   Binomial           1552 non-null   object \n",
      " 1   order              1552 non-null   object \n",
      " 2   family             1552 non-null   object \n",
      " 3   genus              1552 non-null   object \n",
      " 4   species            1552 non-null   object \n",
      " 5   Sample_size.brain  1010 non-null   object \n",
      " 6   Sample_size.body   217 non-null    object \n",
      " 7   Sex                808 non-null    object \n",
      " 8   Mean_brain_mass_g  1552 non-null   float64\n",
      " 9   Mean_body_mass_g   1552 non-null   float64\n",
      " 10  BrainReference1    1552 non-null   object \n",
      " 11  BrainReference2    586 non-null    object \n",
      " 12  Brain.resid        1552 non-null   float64\n",
      " 13  T_resid            1504 non-null   float64\n",
      "dtypes: float64(4), object(10)\n",
      "memory usage: 169.9+ KB\n"
     ]
    }
   ],
   "source": [
    "dataset.info()"
   ]
  },
  {
   "cell_type": "code",
   "execution_count": 5,
   "id": "4b411a26",
   "metadata": {},
   "outputs": [
    {
     "data": {
      "text/plain": [
       "Binomial             False\n",
       "order                False\n",
       "family               False\n",
       "genus                False\n",
       "species              False\n",
       "Sample_size.brain     True\n",
       "Sample_size.body      True\n",
       "Sex                   True\n",
       "Mean_brain_mass_g    False\n",
       "Mean_body_mass_g     False\n",
       "BrainReference1      False\n",
       "BrainReference2       True\n",
       "Brain.resid          False\n",
       "T_resid               True\n",
       "dtype: bool"
      ]
     },
     "execution_count": 5,
     "metadata": {},
     "output_type": "execute_result"
    }
   ],
   "source": [
    "dataset.isnull().any()"
   ]
  },
  {
   "cell_type": "code",
   "execution_count": 6,
   "id": "bbb60010",
   "metadata": {},
   "outputs": [
    {
     "data": {
      "text/plain": [
       "Binomial             1552\n",
       "order                  28\n",
       "family                136\n",
       "genus                 694\n",
       "species              1259\n",
       "Sample_size.brain      81\n",
       "Sample_size.body       51\n",
       "Sex                     6\n",
       "Mean_brain_mass_g    1226\n",
       "Mean_body_mass_g     1269\n",
       "BrainReference1        30\n",
       "BrainReference2       113\n",
       "Brain.resid          1548\n",
       "T_resid              1502\n",
       "dtype: int64"
      ]
     },
     "execution_count": 6,
     "metadata": {},
     "output_type": "execute_result"
    }
   ],
   "source": [
    "dataset.nunique()\n",
    "\n",
    "# dataset.family.unique()"
   ]
  },
  {
   "cell_type": "code",
   "execution_count": 7,
   "id": "f898be2f",
   "metadata": {
    "scrolled": false
   },
   "outputs": [],
   "source": [
    "primates = dataset.loc[dataset[\"order\"] == \"Primates\"]\n",
    "data = primates[[\"Mean_body_mass_g\", \"Mean_brain_mass_g\"]]\n",
    "train_dataset = data.sample(frac=0.8, random_state=0)\n",
    "test_dataset = data.drop(train_dataset.index)\n",
    "# X.tail(), Y.tail()"
   ]
  },
  {
   "cell_type": "code",
   "execution_count": 8,
   "id": "bccf19c0",
   "metadata": {
    "scrolled": false
   },
   "outputs": [
    {
     "data": {
      "text/plain": [
       "<seaborn.axisgrid.FacetGrid at 0x1d3c4af00a0>"
      ]
     },
     "execution_count": 8,
     "metadata": {},
     "output_type": "execute_result"
    },
    {
     "data": {
      "image/png": "[encoded data removed]",
      "text/plain": [
       "<Figure size 360x360 with 1 Axes>"
      ]
     },
     "metadata": {
      "needs_background": "light"
     },
     "output_type": "display_data"
    }
   ],
   "source": [
    "sns.relplot(x=train_dataset.iloc[:, 0], y=train_dataset.iloc[:, 1])"
   ]
  },
  {
   "cell_type": "code",
   "execution_count": 9,
   "id": "d75f9337",
   "metadata": {},
   "outputs": [
    {
     "data": {
      "image/png": "[encoded data removed]",
      "text/plain": [
       "<Figure size 720x360 with 1 Axes>"
      ]
     },
     "metadata": {
      "needs_background": "light"
     },
     "output_type": "display_data"
    }
   ],
   "source": [
    "df = pd.melt(train_dataset, train_dataset.columns[-1], train_dataset.columns[:-1])\n",
    "\n",
    "g = sns.FacetGrid(df, col=\"variable\", col_wrap=2, height=5) #  hue=\"species\",\n",
    "g.map(sns.kdeplot, \"value\", shade=True)\n",
    "\n",
    "plt.show()"
   ]
  },
  {
   "cell_type": "code",
   "execution_count": 10,
   "id": "f834af76",
   "metadata": {},
   "outputs": [
    {
     "data": {
      "text/html": [
       "<div>\n",
       "<style scoped>\n",
       "    .dataframe tbody tr th:only-of-type {\n",
       "        vertical-align: middle;\n",
       "    }\n",
       "\n",
       "    .dataframe tbody tr th {\n",
       "        vertical-align: top;\n",
       "    }\n",
       "\n",
       "    .dataframe thead th {\n",
       "        text-align: right;\n",
       "    }\n",
       "</style>\n",
       "<table border=\"1\" class=\"dataframe\">\n",
       "  <thead>\n",
       "    <tr style=\"text-align: right;\">\n",
       "      <th></th>\n",
       "      <th>count</th>\n",
       "      <th>mean</th>\n",
       "      <th>std</th>\n",
       "      <th>min</th>\n",
       "      <th>25%</th>\n",
       "      <th>50%</th>\n",
       "      <th>75%</th>\n",
       "      <th>max</th>\n",
       "    </tr>\n",
       "  </thead>\n",
       "  <tbody>\n",
       "    <tr>\n",
       "      <th>Mean_body_mass_g</th>\n",
       "      <td>198.0</td>\n",
       "      <td>6446.687410</td>\n",
       "      <td>14660.005238</td>\n",
       "      <td>42.500000</td>\n",
       "      <td>767.250000</td>\n",
       "      <td>3410.000</td>\n",
       "      <td>6800.00000</td>\n",
       "      <td>130000.00</td>\n",
       "    </tr>\n",
       "    <tr>\n",
       "      <th>Mean_brain_mass_g</th>\n",
       "      <td>198.0</td>\n",
       "      <td>68.157301</td>\n",
       "      <td>108.866699</td>\n",
       "      <td>1.716402</td>\n",
       "      <td>11.899562</td>\n",
       "      <td>57.095</td>\n",
       "      <td>86.49952</td>\n",
       "      <td>1250.43</td>\n",
       "    </tr>\n",
       "  </tbody>\n",
       "</table>\n",
       "</div>"
      ],
      "text/plain": [
       "                   count         mean           std        min         25%  \\\n",
       "Mean_body_mass_g   198.0  6446.687410  14660.005238  42.500000  767.250000   \n",
       "Mean_brain_mass_g  198.0    68.157301    108.866699   1.716402   11.899562   \n",
       "\n",
       "                        50%         75%        max  \n",
       "Mean_body_mass_g   3410.000  6800.00000  130000.00  \n",
       "Mean_brain_mass_g    57.095    86.49952    1250.43  "
      ]
     },
     "execution_count": 10,
     "metadata": {},
     "output_type": "execute_result"
    }
   ],
   "source": [
    "train_stats = train_dataset.describe().T\n",
    "train_stats"
   ]
  },
  {
   "cell_type": "code",
   "execution_count": 11,
   "id": "fe31001b",
   "metadata": {
    "pycharm": {
     "name": "#%%\n"
    }
   },
   "outputs": [],
   "source": [
    "X = train_dataset.copy()\n",
    "Y = test_dataset.copy()\n",
    "\n",
    "X_labels = X.pop(\"Mean_brain_mass_g\")\n",
    "Y_labels = Y.pop(\"Mean_brain_mass_g\")"
   ]
  },
  {
   "cell_type": "markdown",
   "id": "34930bf3",
   "metadata": {},
   "source": [
    "### Normalize the data \n",
    "<center> $ x_{norm} = {(x - x^{train}_{\\mu}) \\over x^{train}_{\\sigma} } $ <center>"
   ]
  },
  {
   "cell_type": "code",
   "execution_count": 12,
   "id": "0a338af9",
   "metadata": {},
   "outputs": [],
   "source": [
    "# def norm(x):\n",
    "#     stats = X.describe().T\n",
    "#     return (x - stats['mean']) / stats['std']\n",
    "#\n",
    "# x_norm = norm(X)\n",
    "# y_norm = norm(Y)\n",
    "body_mass = np.array(X[\"Mean_body_mass_g\"])\n",
    "body_mass_norm = preprocessing.Normalization(input_shape=[1,])\n",
    "body_mass_norm.adapt(body_mass)\n"
   ]
  },
  {
   "cell_type": "markdown",
   "id": "1cb9a5b1",
   "metadata": {},
   "source": [
    "# Model"
   ]
  },
  {
   "cell_type": "code",
   "execution_count": 121,
   "id": "58223714",
   "metadata": {},
   "outputs": [],
   "source": [
    "lambd = 0.12\n",
    "alpha = 0.15"
   ]
  },
  {
   "cell_type": "code",
   "execution_count": 122,
   "id": "46790fd5",
   "metadata": {},
   "outputs": [
    {
     "name": "stdout",
     "output_type": "stream",
     "text": [
      "Model: \"sequential_18\"\n",
      "_________________________________________________________________\n",
      "Layer (type)                 Output Shape              Param #   \n",
      "=================================================================\n",
      "normalization (Normalization (None, 1)                 3         \n",
      "_________________________________________________________________\n",
      "dense_36 (Dense)             (None, 3)                 6         \n",
      "_________________________________________________________________\n",
      "dense_37 (Dense)             (None, 1)                 4         \n",
      "=================================================================\n",
      "Total params: 13\n",
      "Trainable params: 10\n",
      "Non-trainable params: 3\n",
      "_________________________________________________________________\n"
     ]
    }
   ],
   "source": [
    "brainmass_model = keras.Sequential([\n",
    "    body_mass_norm,\n",
    "    layers.Dense(units=3, kernel_regularizer=tf.keras.regularizers.L2(lambd)),\n",
    "#     layers.Dense(units=10),\n",
    "    layers.Dense(1)\n",
    "])\n",
    "\n",
    "brainmass_model.summary()"
   ]
  },
  {
   "cell_type": "code",
   "execution_count": 123,
   "id": "1acd2195",
   "metadata": {
    "pycharm": {
     "name": "#%%\n"
    }
   },
   "outputs": [],
   "source": [
    "brainmass_model.compile(\n",
    "    optimizer=tf.optimizers.Adam(learning_rate=alpha),\n",
    "    loss='mae')"
   ]
  },
  {
   "cell_type": "code",
   "execution_count": 124,
   "id": "206029ee",
   "metadata": {
    "pycharm": {
     "name": "#%%\n"
    }
   },
   "outputs": [
    {
     "name": "stdout",
     "output_type": "stream",
     "text": [
      "Wall time: 2.04 s\n"
     ]
    }
   ],
   "source": [
    "%%time\n",
    "history = brainmass_model.fit(\n",
    "    X[\"Mean_body_mass_g\"], X_labels,\n",
    "    epochs=50,\n",
    "    verbose=0,\n",
    "    validation_split = 0.2)"
   ]
  },
  {
   "cell_type": "code",
   "execution_count": 125,
   "id": "e5111c91",
   "metadata": {
    "pycharm": {
     "name": "#%%\n"
    },
    "scrolled": true
   },
   "outputs": [
    {
     "data": {
      "text/html": [
       "<div>\n",
       "<style scoped>\n",
       "    .dataframe tbody tr th:only-of-type {\n",
       "        vertical-align: middle;\n",
       "    }\n",
       "\n",
       "    .dataframe tbody tr th {\n",
       "        vertical-align: top;\n",
       "    }\n",
       "\n",
       "    .dataframe thead th {\n",
       "        text-align: right;\n",
       "    }\n",
       "</style>\n",
       "<table border=\"1\" class=\"dataframe\">\n",
       "  <thead>\n",
       "    <tr style=\"text-align: right;\">\n",
       "      <th></th>\n",
       "      <th>loss</th>\n",
       "      <th>val_loss</th>\n",
       "      <th>epoch</th>\n",
       "    </tr>\n",
       "  </thead>\n",
       "  <tbody>\n",
       "    <tr>\n",
       "      <th>45</th>\n",
       "      <td>28.474455</td>\n",
       "      <td>31.621658</td>\n",
       "      <td>45</td>\n",
       "    </tr>\n",
       "    <tr>\n",
       "      <th>46</th>\n",
       "      <td>28.702711</td>\n",
       "      <td>30.970318</td>\n",
       "      <td>46</td>\n",
       "    </tr>\n",
       "    <tr>\n",
       "      <th>47</th>\n",
       "      <td>28.617378</td>\n",
       "      <td>28.896595</td>\n",
       "      <td>47</td>\n",
       "    </tr>\n",
       "    <tr>\n",
       "      <th>48</th>\n",
       "      <td>28.749891</td>\n",
       "      <td>29.556173</td>\n",
       "      <td>48</td>\n",
       "    </tr>\n",
       "    <tr>\n",
       "      <th>49</th>\n",
       "      <td>28.451649</td>\n",
       "      <td>30.442587</td>\n",
       "      <td>49</td>\n",
       "    </tr>\n",
       "  </tbody>\n",
       "</table>\n",
       "</div>"
      ],
      "text/plain": [
       "         loss   val_loss  epoch\n",
       "45  28.474455  31.621658     45\n",
       "46  28.702711  30.970318     46\n",
       "47  28.617378  28.896595     47\n",
       "48  28.749891  29.556173     48\n",
       "49  28.451649  30.442587     49"
      ]
     },
     "execution_count": 125,
     "metadata": {},
     "output_type": "execute_result"
    }
   ],
   "source": [
    "hist = pd.DataFrame(history.history)\n",
    "hist['epoch'] = history.epoch\n",
    "hist.tail()"
   ]
  },
  {
   "cell_type": "code",
   "execution_count": 126,
   "id": "35483b33",
   "metadata": {
    "pycharm": {
     "name": "#%%\n"
    }
   },
   "outputs": [
    {
     "name": "stdout",
     "output_type": "stream",
     "text": [
      "train_cost = 28.451648712158203 \n",
      " dev_cost = 30.44258689880371\n",
      " test_cost = 28.790790557861328\n",
      "\n"
     ]
    },
    {
     "data": {
      "image/png": "[encoded data removed]",
      "text/plain": [
       "<Figure size 432x288 with 1 Axes>"
      ]
     },
     "metadata": {
      "needs_background": "light"
     },
     "output_type": "display_data"
    }
   ],
   "source": [
    "test_results = {}\n",
    "\n",
    "test_results['Mean_body_mass_model'] = brainmass_model.evaluate(\n",
    "    X[\"Mean_body_mass_g\"],\n",
    "    X_labels, verbose=0)\n",
    "\n",
    "\n",
    "def plot_loss(history):\n",
    "    plt.plot(history.history['loss'], label='loss')\n",
    "    plt.plot(history.history['val_loss'], label='val_loss')\n",
    "#     plt.ylim([0, 70])\n",
    "    plt.xlabel('Epoch')\n",
    "    plt.ylabel('Error [Mean brain mass]')\n",
    "    plt.legend()\n",
    "    plt.grid(True)\n",
    "\n",
    "    \n",
    "print(\"train_cost = %s \\n\" % hist[\"loss\"].iloc[-1], \n",
    "      \"dev_cost = %s\\n\" % hist[\"val_loss\"].iloc[-1], \n",
    "      \"test_cost = %s\\n\" % test_results['Mean_body_mass_model'])\n",
    "plot_loss(history)"
   ]
  },
  {
   "cell_type": "code",
   "execution_count": 108,
   "id": "9253d0d7",
   "metadata": {
    "pycharm": {
     "name": "#%%\n"
    }
   },
   "outputs": [
    {
     "data": {
      "image/png": "[encoded data removed]",
      "text/plain": [
       "<Figure size 432x288 with 1 Axes>"
      ]
     },
     "metadata": {
      "needs_background": "light"
     },
     "output_type": "display_data"
    }
   ],
   "source": [
    "x = tf.linspace(0., 125000, 1000)\n",
    "y = brainmass_model.predict(x)\n",
    "\n",
    "def plot_brainmass(x, y):\n",
    "    plt.scatter(X[\"Mean_body_mass_g\"], X_labels, label=\"Data\")\n",
    "    plt.plot(x, y, color='k', label='Predictions')\n",
    "#     plt.ylim([0, 5000])\n",
    "    plt.xlabel('Body mass')\n",
    "    plt.ylabel('Brain mass')\n",
    "    plt.legend()\n",
    "\n",
    "plot_brainmass(x, y)"
   ]
  },
  {
   "cell_type": "markdown",
   "id": "033c0e53",
   "metadata": {},
   "source": [
    "## Early stopping "
   ]
  },
  {
   "cell_type": "code",
   "execution_count": 20,
   "id": "af893a34",
   "metadata": {},
   "outputs": [
    {
     "name": "stdout",
     "output_type": "stream",
     "text": [
      "train_cost = 29.69977569580078 \n",
      " dev_cost = 30.0238037109375\n",
      " test_cost = 26.192119598388672\n",
      "\n"
     ]
    },
    {
     "data": {
      "image/png": "[encoded data removed]",
      "text/plain": [
       "<Figure size 432x288 with 1 Axes>"
      ]
     },
     "metadata": {
      "needs_background": "light"
     },
     "output_type": "display_data"
    }
   ],
   "source": [
    "brainmass_model = keras.Sequential([\n",
    "    body_mass_norm,\n",
    "    layers.Dense(units=3),\n",
    "#     layers.Dense(units=10),\n",
    "    layers.Dense(1)])\n",
    "\n",
    "early_stop = keras.callbacks.EarlyStopping(monitor='val_loss', patience=10)\n",
    "\n",
    "brainmass_model.compile(\n",
    "    optimizer=tf.optimizers.Adam(learning_rate=alpha),\n",
    "    loss='mae')\n",
    "\n",
    "history = brainmass_model.fit(\n",
    "    X[\"Mean_body_mass_g\"], X_labels,\n",
    "    epochs=50,\n",
    "    verbose=0,\n",
    "    validation_split = 0.2,\n",
    "    callbacks= early_stop)\n",
    "\n",
    "\n",
    "test_results = {}\n",
    "\n",
    "test_results['Mean_body_mass_model'] = brainmass_model.evaluate(\n",
    "    X[\"Mean_body_mass_g\"],\n",
    "    X_labels, verbose=0)\n",
    "\n",
    "\n",
    "print(\"train_cost = %s \\n\" % hist[\"loss\"].iloc[-1], \n",
    "      \"dev_cost = %s\\n\" % hist[\"val_loss\"].iloc[-1], \n",
    "      \"test_cost = %s\\n\" % test_results['Mean_body_mass_model'])\n",
    "plot_loss(history)"
   ]
  },
  {
   "cell_type": "code",
   "execution_count": 21,
   "id": "68fb6f91",
   "metadata": {
    "pycharm": {
     "name": "#%%\n"
    }
   },
   "outputs": [
    {
     "data": {
      "text/html": [
       "<div>\n",
       "<style scoped>\n",
       "    .dataframe tbody tr th:only-of-type {\n",
       "        vertical-align: middle;\n",
       "    }\n",
       "\n",
       "    .dataframe tbody tr th {\n",
       "        vertical-align: top;\n",
       "    }\n",
       "\n",
       "    .dataframe thead th {\n",
       "        text-align: right;\n",
       "    }\n",
       "</style>\n",
       "<table border=\"1\" class=\"dataframe\">\n",
       "  <thead>\n",
       "    <tr style=\"text-align: right;\">\n",
       "      <th></th>\n",
       "      <th>loss</th>\n",
       "      <th>val_loss</th>\n",
       "      <th>epoch</th>\n",
       "    </tr>\n",
       "  </thead>\n",
       "  <tbody>\n",
       "    <tr>\n",
       "      <th>21</th>\n",
       "      <td>25.257305</td>\n",
       "      <td>30.478943</td>\n",
       "      <td>21</td>\n",
       "    </tr>\n",
       "    <tr>\n",
       "      <th>22</th>\n",
       "      <td>25.329479</td>\n",
       "      <td>30.710886</td>\n",
       "      <td>22</td>\n",
       "    </tr>\n",
       "    <tr>\n",
       "      <th>23</th>\n",
       "      <td>25.294228</td>\n",
       "      <td>30.195181</td>\n",
       "      <td>23</td>\n",
       "    </tr>\n",
       "    <tr>\n",
       "      <th>24</th>\n",
       "      <td>25.295910</td>\n",
       "      <td>29.708094</td>\n",
       "      <td>24</td>\n",
       "    </tr>\n",
       "    <tr>\n",
       "      <th>25</th>\n",
       "      <td>25.256067</td>\n",
       "      <td>30.041187</td>\n",
       "      <td>25</td>\n",
       "    </tr>\n",
       "  </tbody>\n",
       "</table>\n",
       "</div>"
      ],
      "text/plain": [
       "         loss   val_loss  epoch\n",
       "21  25.257305  30.478943     21\n",
       "22  25.329479  30.710886     22\n",
       "23  25.294228  30.195181     23\n",
       "24  25.295910  29.708094     24\n",
       "25  25.256067  30.041187     25"
      ]
     },
     "execution_count": 21,
     "metadata": {},
     "output_type": "execute_result"
    }
   ],
   "source": [
    "hist = pd.DataFrame(history.history)\n",
    "hist['epoch'] = history.epoch\n",
    "hist.tail()"
   ]
  },
  {
   "cell_type": "code",
   "execution_count": 22,
   "id": "af2c1bcb",
   "metadata": {
    "pycharm": {
     "name": "#%%\n"
    }
   },
   "outputs": [
    {
     "data": {
      "image/png": "[encoded data removed]",
      "text/plain": [
       "<Figure size 432x288 with 1 Axes>"
      ]
     },
     "metadata": {
      "needs_background": "light"
     },
     "output_type": "display_data"
    }
   ],
   "source": [
    "x = tf.linspace(0., 125000, 1000)\n",
    "y = brainmass_model.predict(x)\n",
    "\n",
    "def plot_brainmass(x, y):\n",
    "    plt.scatter(X[\"Mean_body_mass_g\"], X_labels, label=\"Data\")\n",
    "    plt.plot(x, y, color='k', label='Predictions')\n",
    "#     plt.ylim([0, 5000])\n",
    "    plt.xlabel('Body mass')\n",
    "    plt.ylabel('Brain mass')\n",
    "    plt.legend()\n",
    "\n",
    "plot_brainmass(x, y)"
   ]
  },
  {
   "cell_type": "code",
   "execution_count": null,
   "id": "54b16951",
   "metadata": {},
   "outputs": [],
   "source": []
  }
 ],
 "metadata": {
  "kernelspec": {
   "display_name": "ml",
   "language": "python",
   "name": "ml"
  },
  "language_info": {
   "codemirror_mode": {
    "name": "ipython",
    "version": 3
   },
   "file_extension": ".py",
   "mimetype": "text/x-python",
   "name": "python",
   "nbconvert_exporter": "python",
   "pygments_lexer": "ipython3",
   "version": "3.8.8"
  }
 },
 "nbformat": 4,
 "nbformat_minor": 5
}
